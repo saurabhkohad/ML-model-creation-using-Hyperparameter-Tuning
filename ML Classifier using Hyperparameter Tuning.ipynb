{
 "cells": [
  {
   "cell_type": "markdown",
   "metadata": {},
   "source": [
    "# Assignment Approach 1"
   ]
  },
  {
   "cell_type": "code",
   "execution_count": 1,
   "metadata": {},
   "outputs": [],
   "source": [
    "import pandas as pd\n",
    "import numpy as np\n",
    "import seaborn as sns\n",
    "import matplotlib.pyplot as plt"
   ]
  },
  {
   "cell_type": "markdown",
   "metadata": {},
   "source": [
    "# Importing and Preprocessing the Data using Feature Engineering, Visualization, EDA."
   ]
  },
  {
   "cell_type": "code",
   "execution_count": 2,
   "metadata": {},
   "outputs": [],
   "source": [
    "data_x = pd.read_csv(\"train.csv\")\n",
    "y = pd.read_csv(\"trainLabels.csv\")"
   ]
  },
  {
   "cell_type": "code",
   "execution_count": 3,
   "metadata": {
    "scrolled": true
   },
   "outputs": [
    {
     "data": {
      "text/html": [
       "<div>\n",
       "<style scoped>\n",
       "    .dataframe tbody tr th:only-of-type {\n",
       "        vertical-align: middle;\n",
       "    }\n",
       "\n",
       "    .dataframe tbody tr th {\n",
       "        vertical-align: top;\n",
       "    }\n",
       "\n",
       "    .dataframe thead th {\n",
       "        text-align: right;\n",
       "    }\n",
       "</style>\n",
       "<table border=\"1\" class=\"dataframe\">\n",
       "  <thead>\n",
       "    <tr style=\"text-align: right;\">\n",
       "      <th></th>\n",
       "      <th>id</th>\n",
       "      <th>x1</th>\n",
       "      <th>x2</th>\n",
       "      <th>x3</th>\n",
       "      <th>x4</th>\n",
       "      <th>x5</th>\n",
       "      <th>x6</th>\n",
       "      <th>x7</th>\n",
       "      <th>x8</th>\n",
       "      <th>x9</th>\n",
       "      <th>...</th>\n",
       "      <th>x136</th>\n",
       "      <th>x137</th>\n",
       "      <th>x138</th>\n",
       "      <th>x139</th>\n",
       "      <th>x140</th>\n",
       "      <th>x141</th>\n",
       "      <th>x142</th>\n",
       "      <th>x143</th>\n",
       "      <th>x144</th>\n",
       "      <th>x145</th>\n",
       "    </tr>\n",
       "  </thead>\n",
       "  <tbody>\n",
       "    <tr>\n",
       "      <th>0</th>\n",
       "      <td>1</td>\n",
       "      <td>NO</td>\n",
       "      <td>NO</td>\n",
       "      <td>dqOiM6yBYgnVSezBRiQXs9bvOFnRqrtIoXRIElxD7g8=</td>\n",
       "      <td>GNjrXXA3SxbgD0dTRblAPO9jFJ7AIaZnu/f48g5XSUk=</td>\n",
       "      <td>0.576561</td>\n",
       "      <td>0.073139</td>\n",
       "      <td>0.481394</td>\n",
       "      <td>0.115697</td>\n",
       "      <td>0.472474</td>\n",
       "      <td>...</td>\n",
       "      <td>0.0</td>\n",
       "      <td>0.810</td>\n",
       "      <td>3306</td>\n",
       "      <td>4676</td>\n",
       "      <td>YES</td>\n",
       "      <td>NO</td>\n",
       "      <td>YES</td>\n",
       "      <td>2</td>\n",
       "      <td>0.375535</td>\n",
       "      <td>0.464610</td>\n",
       "    </tr>\n",
       "    <tr>\n",
       "      <th>1</th>\n",
       "      <td>2</td>\n",
       "      <td>NaN</td>\n",
       "      <td>NaN</td>\n",
       "      <td>NaN</td>\n",
       "      <td>NaN</td>\n",
       "      <td>0.000000</td>\n",
       "      <td>0.000000</td>\n",
       "      <td>0.000000</td>\n",
       "      <td>0.000000</td>\n",
       "      <td>0.000000</td>\n",
       "      <td>...</td>\n",
       "      <td>0.0</td>\n",
       "      <td>0.510</td>\n",
       "      <td>4678</td>\n",
       "      <td>3306</td>\n",
       "      <td>YES</td>\n",
       "      <td>NO</td>\n",
       "      <td>YES</td>\n",
       "      <td>4</td>\n",
       "      <td>0.741682</td>\n",
       "      <td>0.593630</td>\n",
       "    </tr>\n",
       "    <tr>\n",
       "      <th>2</th>\n",
       "      <td>3</td>\n",
       "      <td>NO</td>\n",
       "      <td>NO</td>\n",
       "      <td>ib4VpsEsqJHzDiyL0dZLQ+xQzDPrkxE+9T3mx5fv2wI=</td>\n",
       "      <td>X6dDAI/DZOWvu0Dg6gCgRoNr2vTUz/mc4SdHTNUPS38=</td>\n",
       "      <td>1.341803</td>\n",
       "      <td>0.051422</td>\n",
       "      <td>0.935572</td>\n",
       "      <td>0.041440</td>\n",
       "      <td>0.501710</td>\n",
       "      <td>...</td>\n",
       "      <td>0.0</td>\n",
       "      <td>0.850</td>\n",
       "      <td>4678</td>\n",
       "      <td>3306</td>\n",
       "      <td>NO</td>\n",
       "      <td>NO</td>\n",
       "      <td>NO</td>\n",
       "      <td>1</td>\n",
       "      <td>0.776467</td>\n",
       "      <td>0.493159</td>\n",
       "    </tr>\n",
       "    <tr>\n",
       "      <th>3</th>\n",
       "      <td>4</td>\n",
       "      <td>YES</td>\n",
       "      <td>NO</td>\n",
       "      <td>BfrqME7vdLw3suQp6YAT16W2piNUmpKhMzuDrVrFQ4w=</td>\n",
       "      <td>YGCdISifn4fLao/ASKdZFhGIq23oqzfSbUVb6px1pig=</td>\n",
       "      <td>0.653912</td>\n",
       "      <td>0.041471</td>\n",
       "      <td>0.940787</td>\n",
       "      <td>0.090851</td>\n",
       "      <td>0.556564</td>\n",
       "      <td>...</td>\n",
       "      <td>0.0</td>\n",
       "      <td>0.945</td>\n",
       "      <td>3306</td>\n",
       "      <td>4678</td>\n",
       "      <td>NO</td>\n",
       "      <td>NO</td>\n",
       "      <td>YES</td>\n",
       "      <td>3</td>\n",
       "      <td>0.168234</td>\n",
       "      <td>0.546582</td>\n",
       "    </tr>\n",
       "    <tr>\n",
       "      <th>4</th>\n",
       "      <td>5</td>\n",
       "      <td>NO</td>\n",
       "      <td>NO</td>\n",
       "      <td>RTjsrrR8DTlJyaIP9Q3Z8s0zseqlVQTrlSe97GCWfbk=</td>\n",
       "      <td>3yK2OPj1uYDsoMgsxsjY1FxXkOllD8Xfh20VYGqT+nU=</td>\n",
       "      <td>1.415919</td>\n",
       "      <td>0.000000</td>\n",
       "      <td>1.000000</td>\n",
       "      <td>0.000000</td>\n",
       "      <td>0.375297</td>\n",
       "      <td>...</td>\n",
       "      <td>0.0</td>\n",
       "      <td>1.000</td>\n",
       "      <td>1263</td>\n",
       "      <td>892</td>\n",
       "      <td>NO</td>\n",
       "      <td>NO</td>\n",
       "      <td>NO</td>\n",
       "      <td>1</td>\n",
       "      <td>0.246637</td>\n",
       "      <td>0.361045</td>\n",
       "    </tr>\n",
       "  </tbody>\n",
       "</table>\n",
       "<p>5 rows × 146 columns</p>\n",
       "</div>"
      ],
      "text/plain": [
       "   id   x1   x2                                            x3  \\\n",
       "0   1   NO   NO  dqOiM6yBYgnVSezBRiQXs9bvOFnRqrtIoXRIElxD7g8=   \n",
       "1   2  NaN  NaN                                           NaN   \n",
       "2   3   NO   NO  ib4VpsEsqJHzDiyL0dZLQ+xQzDPrkxE+9T3mx5fv2wI=   \n",
       "3   4  YES   NO  BfrqME7vdLw3suQp6YAT16W2piNUmpKhMzuDrVrFQ4w=   \n",
       "4   5   NO   NO  RTjsrrR8DTlJyaIP9Q3Z8s0zseqlVQTrlSe97GCWfbk=   \n",
       "\n",
       "                                             x4        x5        x6        x7  \\\n",
       "0  GNjrXXA3SxbgD0dTRblAPO9jFJ7AIaZnu/f48g5XSUk=  0.576561  0.073139  0.481394   \n",
       "1                                           NaN  0.000000  0.000000  0.000000   \n",
       "2  X6dDAI/DZOWvu0Dg6gCgRoNr2vTUz/mc4SdHTNUPS38=  1.341803  0.051422  0.935572   \n",
       "3  YGCdISifn4fLao/ASKdZFhGIq23oqzfSbUVb6px1pig=  0.653912  0.041471  0.940787   \n",
       "4  3yK2OPj1uYDsoMgsxsjY1FxXkOllD8Xfh20VYGqT+nU=  1.415919  0.000000  1.000000   \n",
       "\n",
       "         x8        x9  ... x136   x137  x138  x139 x140  x141  x142  x143  \\\n",
       "0  0.115697  0.472474  ...  0.0  0.810  3306  4676  YES    NO   YES     2   \n",
       "1  0.000000  0.000000  ...  0.0  0.510  4678  3306  YES    NO   YES     4   \n",
       "2  0.041440  0.501710  ...  0.0  0.850  4678  3306   NO    NO    NO     1   \n",
       "3  0.090851  0.556564  ...  0.0  0.945  3306  4678   NO    NO   YES     3   \n",
       "4  0.000000  0.375297  ...  0.0  1.000  1263   892   NO    NO    NO     1   \n",
       "\n",
       "       x144      x145  \n",
       "0  0.375535  0.464610  \n",
       "1  0.741682  0.593630  \n",
       "2  0.776467  0.493159  \n",
       "3  0.168234  0.546582  \n",
       "4  0.246637  0.361045  \n",
       "\n",
       "[5 rows x 146 columns]"
      ]
     },
     "execution_count": 3,
     "metadata": {},
     "output_type": "execute_result"
    }
   ],
   "source": [
    "data_x.head()"
   ]
  },
  {
   "cell_type": "code",
   "execution_count": 4,
   "metadata": {
    "scrolled": true
   },
   "outputs": [
    {
     "data": {
      "text/html": [
       "<div>\n",
       "<style scoped>\n",
       "    .dataframe tbody tr th:only-of-type {\n",
       "        vertical-align: middle;\n",
       "    }\n",
       "\n",
       "    .dataframe tbody tr th {\n",
       "        vertical-align: top;\n",
       "    }\n",
       "\n",
       "    .dataframe thead th {\n",
       "        text-align: right;\n",
       "    }\n",
       "</style>\n",
       "<table border=\"1\" class=\"dataframe\">\n",
       "  <thead>\n",
       "    <tr style=\"text-align: right;\">\n",
       "      <th></th>\n",
       "      <th>id</th>\n",
       "      <th>y1</th>\n",
       "      <th>y2</th>\n",
       "      <th>y3</th>\n",
       "      <th>y4</th>\n",
       "      <th>y5</th>\n",
       "      <th>y6</th>\n",
       "      <th>y7</th>\n",
       "      <th>y8</th>\n",
       "      <th>y9</th>\n",
       "      <th>...</th>\n",
       "      <th>y24</th>\n",
       "      <th>y25</th>\n",
       "      <th>y26</th>\n",
       "      <th>y27</th>\n",
       "      <th>y28</th>\n",
       "      <th>y29</th>\n",
       "      <th>y30</th>\n",
       "      <th>y31</th>\n",
       "      <th>y32</th>\n",
       "      <th>y33</th>\n",
       "    </tr>\n",
       "  </thead>\n",
       "  <tbody>\n",
       "    <tr>\n",
       "      <th>0</th>\n",
       "      <td>1</td>\n",
       "      <td>0</td>\n",
       "      <td>0</td>\n",
       "      <td>0</td>\n",
       "      <td>0</td>\n",
       "      <td>0</td>\n",
       "      <td>0</td>\n",
       "      <td>0</td>\n",
       "      <td>0</td>\n",
       "      <td>0</td>\n",
       "      <td>...</td>\n",
       "      <td>0</td>\n",
       "      <td>0</td>\n",
       "      <td>0</td>\n",
       "      <td>0</td>\n",
       "      <td>0</td>\n",
       "      <td>0</td>\n",
       "      <td>0</td>\n",
       "      <td>0</td>\n",
       "      <td>0</td>\n",
       "      <td>1</td>\n",
       "    </tr>\n",
       "    <tr>\n",
       "      <th>1</th>\n",
       "      <td>2</td>\n",
       "      <td>0</td>\n",
       "      <td>0</td>\n",
       "      <td>0</td>\n",
       "      <td>0</td>\n",
       "      <td>0</td>\n",
       "      <td>0</td>\n",
       "      <td>0</td>\n",
       "      <td>0</td>\n",
       "      <td>0</td>\n",
       "      <td>...</td>\n",
       "      <td>0</td>\n",
       "      <td>0</td>\n",
       "      <td>0</td>\n",
       "      <td>0</td>\n",
       "      <td>0</td>\n",
       "      <td>0</td>\n",
       "      <td>0</td>\n",
       "      <td>0</td>\n",
       "      <td>1</td>\n",
       "      <td>0</td>\n",
       "    </tr>\n",
       "    <tr>\n",
       "      <th>2</th>\n",
       "      <td>3</td>\n",
       "      <td>0</td>\n",
       "      <td>0</td>\n",
       "      <td>1</td>\n",
       "      <td>0</td>\n",
       "      <td>0</td>\n",
       "      <td>0</td>\n",
       "      <td>0</td>\n",
       "      <td>0</td>\n",
       "      <td>0</td>\n",
       "      <td>...</td>\n",
       "      <td>0</td>\n",
       "      <td>0</td>\n",
       "      <td>0</td>\n",
       "      <td>0</td>\n",
       "      <td>0</td>\n",
       "      <td>0</td>\n",
       "      <td>0</td>\n",
       "      <td>0</td>\n",
       "      <td>0</td>\n",
       "      <td>0</td>\n",
       "    </tr>\n",
       "    <tr>\n",
       "      <th>3</th>\n",
       "      <td>4</td>\n",
       "      <td>0</td>\n",
       "      <td>0</td>\n",
       "      <td>0</td>\n",
       "      <td>0</td>\n",
       "      <td>0</td>\n",
       "      <td>0</td>\n",
       "      <td>0</td>\n",
       "      <td>0</td>\n",
       "      <td>0</td>\n",
       "      <td>...</td>\n",
       "      <td>0</td>\n",
       "      <td>0</td>\n",
       "      <td>0</td>\n",
       "      <td>0</td>\n",
       "      <td>0</td>\n",
       "      <td>0</td>\n",
       "      <td>0</td>\n",
       "      <td>0</td>\n",
       "      <td>0</td>\n",
       "      <td>1</td>\n",
       "    </tr>\n",
       "    <tr>\n",
       "      <th>4</th>\n",
       "      <td>5</td>\n",
       "      <td>0</td>\n",
       "      <td>0</td>\n",
       "      <td>0</td>\n",
       "      <td>0</td>\n",
       "      <td>0</td>\n",
       "      <td>0</td>\n",
       "      <td>0</td>\n",
       "      <td>0</td>\n",
       "      <td>0</td>\n",
       "      <td>...</td>\n",
       "      <td>0</td>\n",
       "      <td>0</td>\n",
       "      <td>0</td>\n",
       "      <td>0</td>\n",
       "      <td>0</td>\n",
       "      <td>0</td>\n",
       "      <td>0</td>\n",
       "      <td>0</td>\n",
       "      <td>0</td>\n",
       "      <td>1</td>\n",
       "    </tr>\n",
       "  </tbody>\n",
       "</table>\n",
       "<p>5 rows × 34 columns</p>\n",
       "</div>"
      ],
      "text/plain": [
       "   id  y1  y2  y3  y4  y5  y6  y7  y8  y9  ...  y24  y25  y26  y27  y28  y29  \\\n",
       "0   1   0   0   0   0   0   0   0   0   0  ...    0    0    0    0    0    0   \n",
       "1   2   0   0   0   0   0   0   0   0   0  ...    0    0    0    0    0    0   \n",
       "2   3   0   0   1   0   0   0   0   0   0  ...    0    0    0    0    0    0   \n",
       "3   4   0   0   0   0   0   0   0   0   0  ...    0    0    0    0    0    0   \n",
       "4   5   0   0   0   0   0   0   0   0   0  ...    0    0    0    0    0    0   \n",
       "\n",
       "   y30  y31  y32  y33  \n",
       "0    0    0    0    1  \n",
       "1    0    0    1    0  \n",
       "2    0    0    0    0  \n",
       "3    0    0    0    1  \n",
       "4    0    0    0    1  \n",
       "\n",
       "[5 rows x 34 columns]"
      ]
     },
     "execution_count": 4,
     "metadata": {},
     "output_type": "execute_result"
    }
   ],
   "source": [
    "y.head()"
   ]
  },
  {
   "cell_type": "code",
   "execution_count": 5,
   "metadata": {},
   "outputs": [
    {
     "data": {
      "text/plain": [
       "(49999, 34)"
      ]
     },
     "execution_count": 5,
     "metadata": {},
     "output_type": "execute_result"
    }
   ],
   "source": [
    "y.shape"
   ]
  },
  {
   "cell_type": "code",
   "execution_count": 6,
   "metadata": {},
   "outputs": [],
   "source": [
    "y = y.iloc[:9999,:]"
   ]
  },
  {
   "cell_type": "code",
   "execution_count": 7,
   "metadata": {},
   "outputs": [
    {
     "data": {
      "text/plain": [
       "(9999, 34)"
      ]
     },
     "execution_count": 7,
     "metadata": {},
     "output_type": "execute_result"
    }
   ],
   "source": [
    "y.shape"
   ]
  },
  {
   "cell_type": "code",
   "execution_count": 8,
   "metadata": {},
   "outputs": [
    {
     "data": {
      "text/plain": [
       "<matplotlib.axes._subplots.AxesSubplot at 0x2c7fd5f8>"
      ]
     },
     "execution_count": 8,
     "metadata": {},
     "output_type": "execute_result"
    },
    {
     "data": {
      "image/png": "[encoded data removed]",
      "text/plain": [
       "<Figure size 1080x576 with 2 Axes>"
      ]
     },
     "metadata": {
      "needs_background": "light"
     },
     "output_type": "display_data"
    }
   ],
   "source": [
    "plt.figure(figsize=(15,8))\n",
    "sns.heatmap(y.isnull())"
   ]
  },
  {
   "cell_type": "code",
   "execution_count": 9,
   "metadata": {},
   "outputs": [],
   "source": [
    "y[\"Y\"] = y[\"y1\"] + y[\"y2\"] + y[\"y3\"] + y[\"y4\"] + y[\"y5\"] + y[\"y6\"] + y[\"y7\"] + y[\"y8\"] + y[\"y9\"] + y[\"y10\"] + y[\"y11\"] + y[\"y12\"] + y[\"y13\"] + y[\"y14\"] + y[\"y15\"] + y[\"y16\"] + y[\"y17\"] + y[\"y18\"] + y[\"y19\"] + y[\"y20\"] + y[\"y21\"] + y[\"y22\"] + y[\"y23\"] + y[\"y24\"] + y[\"y25\"] + y[\"y26\"] + y[\"y27\"] + y[\"y28\"] + y[\"y29\"] + y[\"y30\"] + y[\"y31\"] + y[\"y32\"] + y[\"y33\"] "
   ]
  },
  {
   "cell_type": "code",
   "execution_count": 10,
   "metadata": {},
   "outputs": [
    {
     "data": {
      "text/html": [
       "<div>\n",
       "<style scoped>\n",
       "    .dataframe tbody tr th:only-of-type {\n",
       "        vertical-align: middle;\n",
       "    }\n",
       "\n",
       "    .dataframe tbody tr th {\n",
       "        vertical-align: top;\n",
       "    }\n",
       "\n",
       "    .dataframe thead th {\n",
       "        text-align: right;\n",
       "    }\n",
       "</style>\n",
       "<table border=\"1\" class=\"dataframe\">\n",
       "  <thead>\n",
       "    <tr style=\"text-align: right;\">\n",
       "      <th></th>\n",
       "      <th>id</th>\n",
       "      <th>y1</th>\n",
       "      <th>y2</th>\n",
       "      <th>y3</th>\n",
       "      <th>y4</th>\n",
       "      <th>y5</th>\n",
       "      <th>y6</th>\n",
       "      <th>y7</th>\n",
       "      <th>y8</th>\n",
       "      <th>y9</th>\n",
       "      <th>...</th>\n",
       "      <th>y25</th>\n",
       "      <th>y26</th>\n",
       "      <th>y27</th>\n",
       "      <th>y28</th>\n",
       "      <th>y29</th>\n",
       "      <th>y30</th>\n",
       "      <th>y31</th>\n",
       "      <th>y32</th>\n",
       "      <th>y33</th>\n",
       "      <th>Y</th>\n",
       "    </tr>\n",
       "  </thead>\n",
       "  <tbody>\n",
       "    <tr>\n",
       "      <th>0</th>\n",
       "      <td>1</td>\n",
       "      <td>0</td>\n",
       "      <td>0</td>\n",
       "      <td>0</td>\n",
       "      <td>0</td>\n",
       "      <td>0</td>\n",
       "      <td>0</td>\n",
       "      <td>0</td>\n",
       "      <td>0</td>\n",
       "      <td>0</td>\n",
       "      <td>...</td>\n",
       "      <td>0</td>\n",
       "      <td>0</td>\n",
       "      <td>0</td>\n",
       "      <td>0</td>\n",
       "      <td>0</td>\n",
       "      <td>0</td>\n",
       "      <td>0</td>\n",
       "      <td>0</td>\n",
       "      <td>1</td>\n",
       "      <td>1</td>\n",
       "    </tr>\n",
       "    <tr>\n",
       "      <th>1</th>\n",
       "      <td>2</td>\n",
       "      <td>0</td>\n",
       "      <td>0</td>\n",
       "      <td>0</td>\n",
       "      <td>0</td>\n",
       "      <td>0</td>\n",
       "      <td>0</td>\n",
       "      <td>0</td>\n",
       "      <td>0</td>\n",
       "      <td>0</td>\n",
       "      <td>...</td>\n",
       "      <td>0</td>\n",
       "      <td>0</td>\n",
       "      <td>0</td>\n",
       "      <td>0</td>\n",
       "      <td>0</td>\n",
       "      <td>0</td>\n",
       "      <td>0</td>\n",
       "      <td>1</td>\n",
       "      <td>0</td>\n",
       "      <td>1</td>\n",
       "    </tr>\n",
       "    <tr>\n",
       "      <th>2</th>\n",
       "      <td>3</td>\n",
       "      <td>0</td>\n",
       "      <td>0</td>\n",
       "      <td>1</td>\n",
       "      <td>0</td>\n",
       "      <td>0</td>\n",
       "      <td>0</td>\n",
       "      <td>0</td>\n",
       "      <td>0</td>\n",
       "      <td>0</td>\n",
       "      <td>...</td>\n",
       "      <td>0</td>\n",
       "      <td>0</td>\n",
       "      <td>0</td>\n",
       "      <td>0</td>\n",
       "      <td>0</td>\n",
       "      <td>0</td>\n",
       "      <td>0</td>\n",
       "      <td>0</td>\n",
       "      <td>0</td>\n",
       "      <td>1</td>\n",
       "    </tr>\n",
       "    <tr>\n",
       "      <th>3</th>\n",
       "      <td>4</td>\n",
       "      <td>0</td>\n",
       "      <td>0</td>\n",
       "      <td>0</td>\n",
       "      <td>0</td>\n",
       "      <td>0</td>\n",
       "      <td>0</td>\n",
       "      <td>0</td>\n",
       "      <td>0</td>\n",
       "      <td>0</td>\n",
       "      <td>...</td>\n",
       "      <td>0</td>\n",
       "      <td>0</td>\n",
       "      <td>0</td>\n",
       "      <td>0</td>\n",
       "      <td>0</td>\n",
       "      <td>0</td>\n",
       "      <td>0</td>\n",
       "      <td>0</td>\n",
       "      <td>1</td>\n",
       "      <td>1</td>\n",
       "    </tr>\n",
       "    <tr>\n",
       "      <th>4</th>\n",
       "      <td>5</td>\n",
       "      <td>0</td>\n",
       "      <td>0</td>\n",
       "      <td>0</td>\n",
       "      <td>0</td>\n",
       "      <td>0</td>\n",
       "      <td>0</td>\n",
       "      <td>0</td>\n",
       "      <td>0</td>\n",
       "      <td>0</td>\n",
       "      <td>...</td>\n",
       "      <td>0</td>\n",
       "      <td>0</td>\n",
       "      <td>0</td>\n",
       "      <td>0</td>\n",
       "      <td>0</td>\n",
       "      <td>0</td>\n",
       "      <td>0</td>\n",
       "      <td>0</td>\n",
       "      <td>1</td>\n",
       "      <td>1</td>\n",
       "    </tr>\n",
       "  </tbody>\n",
       "</table>\n",
       "<p>5 rows × 35 columns</p>\n",
       "</div>"
      ],
      "text/plain": [
       "   id  y1  y2  y3  y4  y5  y6  y7  y8  y9  ...  y25  y26  y27  y28  y29  y30  \\\n",
       "0   1   0   0   0   0   0   0   0   0   0  ...    0    0    0    0    0    0   \n",
       "1   2   0   0   0   0   0   0   0   0   0  ...    0    0    0    0    0    0   \n",
       "2   3   0   0   1   0   0   0   0   0   0  ...    0    0    0    0    0    0   \n",
       "3   4   0   0   0   0   0   0   0   0   0  ...    0    0    0    0    0    0   \n",
       "4   5   0   0   0   0   0   0   0   0   0  ...    0    0    0    0    0    0   \n",
       "\n",
       "   y31  y32  y33  Y  \n",
       "0    0    0    1  1  \n",
       "1    0    1    0  1  \n",
       "2    0    0    0  1  \n",
       "3    0    0    1  1  \n",
       "4    0    0    1  1  \n",
       "\n",
       "[5 rows x 35 columns]"
      ]
     },
     "execution_count": 10,
     "metadata": {},
     "output_type": "execute_result"
    }
   ],
   "source": [
    "y.head()"
   ]
  },
  {
   "cell_type": "code",
   "execution_count": 11,
   "metadata": {},
   "outputs": [
    {
     "data": {
      "text/plain": [
       "(9999,)"
      ]
     },
     "execution_count": 11,
     "metadata": {},
     "output_type": "execute_result"
    }
   ],
   "source": [
    "y = y[\"Y\"]\n",
    "y.shape"
   ]
  },
  {
   "cell_type": "code",
   "execution_count": 12,
   "metadata": {},
   "outputs": [
    {
     "data": {
      "text/plain": [
       "<matplotlib.axes._subplots.AxesSubplot at 0x2aee85f8>"
      ]
     },
     "execution_count": 12,
     "metadata": {},
     "output_type": "execute_result"
    },
    {
     "data": {
      "image/png": "[encoded data removed]",
      "text/plain": [
       "<Figure size 1080x576 with 2 Axes>"
      ]
     },
     "metadata": {
      "needs_background": "light"
     },
     "output_type": "display_data"
    }
   ],
   "source": [
    "plt.figure(figsize=(15,8))\n",
    "sns.heatmap(data_x.isnull())"
   ]
  },
  {
   "cell_type": "code",
   "execution_count": 13,
   "metadata": {},
   "outputs": [
    {
     "name": "stdout",
     "output_type": "stream",
     "text": [
      "<class 'pandas.core.frame.DataFrame'>\n",
      "RangeIndex: 9999 entries, 0 to 9998\n",
      "Columns: 146 entries, id to x145\n",
      "dtypes: float64(55), int64(31), object(60)\n",
      "memory usage: 11.1+ MB\n"
     ]
    }
   ],
   "source": [
    "data_x.info()"
   ]
  },
  {
   "cell_type": "code",
   "execution_count": 14,
   "metadata": {},
   "outputs": [
    {
     "data": {
      "text/html": [
       "<div>\n",
       "<style scoped>\n",
       "    .dataframe tbody tr th:only-of-type {\n",
       "        vertical-align: middle;\n",
       "    }\n",
       "\n",
       "    .dataframe tbody tr th {\n",
       "        vertical-align: top;\n",
       "    }\n",
       "\n",
       "    .dataframe thead th {\n",
       "        text-align: right;\n",
       "    }\n",
       "</style>\n",
       "<table border=\"1\" class=\"dataframe\">\n",
       "  <thead>\n",
       "    <tr style=\"text-align: right;\">\n",
       "      <th></th>\n",
       "      <th>id</th>\n",
       "      <th>x5</th>\n",
       "      <th>x6</th>\n",
       "      <th>x7</th>\n",
       "      <th>x8</th>\n",
       "      <th>x9</th>\n",
       "      <th>x15</th>\n",
       "      <th>x16</th>\n",
       "      <th>x17</th>\n",
       "      <th>x18</th>\n",
       "      <th>...</th>\n",
       "      <th>x133</th>\n",
       "      <th>x134</th>\n",
       "      <th>x135</th>\n",
       "      <th>x136</th>\n",
       "      <th>x137</th>\n",
       "      <th>x138</th>\n",
       "      <th>x139</th>\n",
       "      <th>x143</th>\n",
       "      <th>x144</th>\n",
       "      <th>x145</th>\n",
       "    </tr>\n",
       "  </thead>\n",
       "  <tbody>\n",
       "    <tr>\n",
       "      <th>count</th>\n",
       "      <td>9999.000000</td>\n",
       "      <td>9999.000000</td>\n",
       "      <td>9999.000000</td>\n",
       "      <td>9999.000000</td>\n",
       "      <td>9999.000000</td>\n",
       "      <td>9999.000000</td>\n",
       "      <td>9999.000000</td>\n",
       "      <td>9999.000000</td>\n",
       "      <td>9999.000000</td>\n",
       "      <td>9999.000000</td>\n",
       "      <td>...</td>\n",
       "      <td>9999.000000</td>\n",
       "      <td>9999.000000</td>\n",
       "      <td>9999.000000</td>\n",
       "      <td>9999.000000</td>\n",
       "      <td>9999.000000</td>\n",
       "      <td>9999.000000</td>\n",
       "      <td>9999.000000</td>\n",
       "      <td>9999.000000</td>\n",
       "      <td>9999.000000</td>\n",
       "      <td>9999.000000</td>\n",
       "    </tr>\n",
       "    <tr>\n",
       "      <th>mean</th>\n",
       "      <td>5000.000000</td>\n",
       "      <td>0.964933</td>\n",
       "      <td>0.053623</td>\n",
       "      <td>0.791668</td>\n",
       "      <td>0.172705</td>\n",
       "      <td>0.448091</td>\n",
       "      <td>6.056806</td>\n",
       "      <td>0.418593</td>\n",
       "      <td>4.483448</td>\n",
       "      <td>8.073907</td>\n",
       "      <td>...</td>\n",
       "      <td>9.291529</td>\n",
       "      <td>8.800880</td>\n",
       "      <td>0.933771</td>\n",
       "      <td>0.056523</td>\n",
       "      <td>0.924781</td>\n",
       "      <td>2669.290629</td>\n",
       "      <td>2142.907091</td>\n",
       "      <td>3.667767</td>\n",
       "      <td>0.519482</td>\n",
       "      <td>0.505084</td>\n",
       "    </tr>\n",
       "    <tr>\n",
       "      <th>std</th>\n",
       "      <td>2886.607005</td>\n",
       "      <td>0.524688</td>\n",
       "      <td>0.128503</td>\n",
       "      <td>0.353194</td>\n",
       "      <td>0.329020</td>\n",
       "      <td>0.300549</td>\n",
       "      <td>8.756490</td>\n",
       "      <td>0.294579</td>\n",
       "      <td>4.388639</td>\n",
       "      <td>7.032278</td>\n",
       "      <td>...</td>\n",
       "      <td>7.576648</td>\n",
       "      <td>6.584598</td>\n",
       "      <td>0.069921</td>\n",
       "      <td>1.520931</td>\n",
       "      <td>0.118496</td>\n",
       "      <td>1588.220409</td>\n",
       "      <td>1386.559408</td>\n",
       "      <td>11.014722</td>\n",
       "      <td>0.270886</td>\n",
       "      <td>0.256323</td>\n",
       "    </tr>\n",
       "    <tr>\n",
       "      <th>min</th>\n",
       "      <td>1.000000</td>\n",
       "      <td>0.000000</td>\n",
       "      <td>0.000000</td>\n",
       "      <td>0.000000</td>\n",
       "      <td>0.000000</td>\n",
       "      <td>0.000000</td>\n",
       "      <td>0.000000</td>\n",
       "      <td>0.000000</td>\n",
       "      <td>0.000000</td>\n",
       "      <td>0.000000</td>\n",
       "      <td>...</td>\n",
       "      <td>1.000000</td>\n",
       "      <td>0.000000</td>\n",
       "      <td>-0.098334</td>\n",
       "      <td>-17.000000</td>\n",
       "      <td>0.000000</td>\n",
       "      <td>892.000000</td>\n",
       "      <td>838.000000</td>\n",
       "      <td>0.000000</td>\n",
       "      <td>0.021635</td>\n",
       "      <td>0.001327</td>\n",
       "    </tr>\n",
       "    <tr>\n",
       "      <th>25%</th>\n",
       "      <td>2500.500000</td>\n",
       "      <td>0.642796</td>\n",
       "      <td>0.000000</td>\n",
       "      <td>0.831299</td>\n",
       "      <td>0.000000</td>\n",
       "      <td>0.199617</td>\n",
       "      <td>1.000000</td>\n",
       "      <td>0.165599</td>\n",
       "      <td>2.000000</td>\n",
       "      <td>3.000000</td>\n",
       "      <td>...</td>\n",
       "      <td>4.000000</td>\n",
       "      <td>4.000000</td>\n",
       "      <td>0.916144</td>\n",
       "      <td>0.000000</td>\n",
       "      <td>0.880000</td>\n",
       "      <td>1262.000000</td>\n",
       "      <td>892.000000</td>\n",
       "      <td>1.000000</td>\n",
       "      <td>0.267939</td>\n",
       "      <td>0.306031</td>\n",
       "    </tr>\n",
       "    <tr>\n",
       "      <th>50%</th>\n",
       "      <td>5000.000000</td>\n",
       "      <td>1.285541</td>\n",
       "      <td>0.000000</td>\n",
       "      <td>0.960637</td>\n",
       "      <td>0.000000</td>\n",
       "      <td>0.439504</td>\n",
       "      <td>3.000000</td>\n",
       "      <td>0.395740</td>\n",
       "      <td>4.000000</td>\n",
       "      <td>7.000000</td>\n",
       "      <td>...</td>\n",
       "      <td>7.000000</td>\n",
       "      <td>7.000000</td>\n",
       "      <td>0.949552</td>\n",
       "      <td>0.000000</td>\n",
       "      <td>1.000000</td>\n",
       "      <td>1263.000000</td>\n",
       "      <td>918.000000</td>\n",
       "      <td>2.000000</td>\n",
       "      <td>0.517937</td>\n",
       "      <td>0.484561</td>\n",
       "    </tr>\n",
       "    <tr>\n",
       "      <th>75%</th>\n",
       "      <td>7499.500000</td>\n",
       "      <td>1.414798</td>\n",
       "      <td>0.058076</td>\n",
       "      <td>1.000000</td>\n",
       "      <td>0.151543</td>\n",
       "      <td>0.682880</td>\n",
       "      <td>7.000000</td>\n",
       "      <td>0.683908</td>\n",
       "      <td>6.000000</td>\n",
       "      <td>11.000000</td>\n",
       "      <td>...</td>\n",
       "      <td>13.000000</td>\n",
       "      <td>12.000000</td>\n",
       "      <td>0.972222</td>\n",
       "      <td>0.000000</td>\n",
       "      <td>1.000000</td>\n",
       "      <td>4672.000000</td>\n",
       "      <td>3308.000000</td>\n",
       "      <td>5.000000</td>\n",
       "      <td>0.759242</td>\n",
       "      <td>0.707324</td>\n",
       "    </tr>\n",
       "    <tr>\n",
       "      <th>max</th>\n",
       "      <td>9999.000000</td>\n",
       "      <td>1.474916</td>\n",
       "      <td>0.992745</td>\n",
       "      <td>1.000000</td>\n",
       "      <td>1.393289</td>\n",
       "      <td>1.098257</td>\n",
       "      <td>88.000000</td>\n",
       "      <td>1.180828</td>\n",
       "      <td>132.000000</td>\n",
       "      <td>118.000000</td>\n",
       "      <td>...</td>\n",
       "      <td>84.000000</td>\n",
       "      <td>118.000000</td>\n",
       "      <td>0.999947</td>\n",
       "      <td>23.000000</td>\n",
       "      <td>1.000000</td>\n",
       "      <td>5217.000000</td>\n",
       "      <td>6622.000000</td>\n",
       "      <td>697.000000</td>\n",
       "      <td>1.238562</td>\n",
       "      <td>1.086371</td>\n",
       "    </tr>\n",
       "  </tbody>\n",
       "</table>\n",
       "<p>8 rows × 86 columns</p>\n",
       "</div>"
      ],
      "text/plain": [
       "                id           x5           x6           x7           x8  \\\n",
       "count  9999.000000  9999.000000  9999.000000  9999.000000  9999.000000   \n",
       "mean   5000.000000     0.964933     0.053623     0.791668     0.172705   \n",
       "std    2886.607005     0.524688     0.128503     0.353194     0.329020   \n",
       "min       1.000000     0.000000     0.000000     0.000000     0.000000   \n",
       "25%    2500.500000     0.642796     0.000000     0.831299     0.000000   \n",
       "50%    5000.000000     1.285541     0.000000     0.960637     0.000000   \n",
       "75%    7499.500000     1.414798     0.058076     1.000000     0.151543   \n",
       "max    9999.000000     1.474916     0.992745     1.000000     1.393289   \n",
       "\n",
       "                x9          x15          x16          x17          x18  ...  \\\n",
       "count  9999.000000  9999.000000  9999.000000  9999.000000  9999.000000  ...   \n",
       "mean      0.448091     6.056806     0.418593     4.483448     8.073907  ...   \n",
       "std       0.300549     8.756490     0.294579     4.388639     7.032278  ...   \n",
       "min       0.000000     0.000000     0.000000     0.000000     0.000000  ...   \n",
       "25%       0.199617     1.000000     0.165599     2.000000     3.000000  ...   \n",
       "50%       0.439504     3.000000     0.395740     4.000000     7.000000  ...   \n",
       "75%       0.682880     7.000000     0.683908     6.000000    11.000000  ...   \n",
       "max       1.098257    88.000000     1.180828   132.000000   118.000000  ...   \n",
       "\n",
       "              x133         x134         x135         x136         x137  \\\n",
       "count  9999.000000  9999.000000  9999.000000  9999.000000  9999.000000   \n",
       "mean      9.291529     8.800880     0.933771     0.056523     0.924781   \n",
       "std       7.576648     6.584598     0.069921     1.520931     0.118496   \n",
       "min       1.000000     0.000000    -0.098334   -17.000000     0.000000   \n",
       "25%       4.000000     4.000000     0.916144     0.000000     0.880000   \n",
       "50%       7.000000     7.000000     0.949552     0.000000     1.000000   \n",
       "75%      13.000000    12.000000     0.972222     0.000000     1.000000   \n",
       "max      84.000000   118.000000     0.999947    23.000000     1.000000   \n",
       "\n",
       "              x138         x139         x143         x144         x145  \n",
       "count  9999.000000  9999.000000  9999.000000  9999.000000  9999.000000  \n",
       "mean   2669.290629  2142.907091     3.667767     0.519482     0.505084  \n",
       "std    1588.220409  1386.559408    11.014722     0.270886     0.256323  \n",
       "min     892.000000   838.000000     0.000000     0.021635     0.001327  \n",
       "25%    1262.000000   892.000000     1.000000     0.267939     0.306031  \n",
       "50%    1263.000000   918.000000     2.000000     0.517937     0.484561  \n",
       "75%    4672.000000  3308.000000     5.000000     0.759242     0.707324  \n",
       "max    5217.000000  6622.000000   697.000000     1.238562     1.086371  \n",
       "\n",
       "[8 rows x 86 columns]"
      ]
     },
     "execution_count": 14,
     "metadata": {},
     "output_type": "execute_result"
    }
   ],
   "source": [
    "data_x.describe()"
   ]
  },
  {
   "cell_type": "code",
   "execution_count": 15,
   "metadata": {},
   "outputs": [
    {
     "data": {
      "text/html": [
       "<div>\n",
       "<style scoped>\n",
       "    .dataframe tbody tr th:only-of-type {\n",
       "        vertical-align: middle;\n",
       "    }\n",
       "\n",
       "    .dataframe tbody tr th {\n",
       "        vertical-align: top;\n",
       "    }\n",
       "\n",
       "    .dataframe thead th {\n",
       "        text-align: right;\n",
       "    }\n",
       "</style>\n",
       "<table border=\"1\" class=\"dataframe\">\n",
       "  <thead>\n",
       "    <tr style=\"text-align: right;\">\n",
       "      <th></th>\n",
       "      <th>x1</th>\n",
       "      <th>x2</th>\n",
       "      <th>x10</th>\n",
       "      <th>x11</th>\n",
       "      <th>x12</th>\n",
       "      <th>x13</th>\n",
       "      <th>x14</th>\n",
       "      <th>x24</th>\n",
       "      <th>x25</th>\n",
       "      <th>x26</th>\n",
       "      <th>...</th>\n",
       "      <th>x116</th>\n",
       "      <th>x117</th>\n",
       "      <th>x126</th>\n",
       "      <th>x127</th>\n",
       "      <th>x128</th>\n",
       "      <th>x129</th>\n",
       "      <th>x130</th>\n",
       "      <th>x140</th>\n",
       "      <th>x141</th>\n",
       "      <th>x142</th>\n",
       "    </tr>\n",
       "  </thead>\n",
       "  <tbody>\n",
       "    <tr>\n",
       "      <th>0</th>\n",
       "      <td>NO</td>\n",
       "      <td>NO</td>\n",
       "      <td>YES</td>\n",
       "      <td>NO</td>\n",
       "      <td>NO</td>\n",
       "      <td>NO</td>\n",
       "      <td>NO</td>\n",
       "      <td>YES</td>\n",
       "      <td>NO</td>\n",
       "      <td>YES</td>\n",
       "      <td>...</td>\n",
       "      <td>NO</td>\n",
       "      <td>YES</td>\n",
       "      <td>YES</td>\n",
       "      <td>NO</td>\n",
       "      <td>NO</td>\n",
       "      <td>NO</td>\n",
       "      <td>NO</td>\n",
       "      <td>YES</td>\n",
       "      <td>NO</td>\n",
       "      <td>YES</td>\n",
       "    </tr>\n",
       "    <tr>\n",
       "      <th>1</th>\n",
       "      <td>NaN</td>\n",
       "      <td>NaN</td>\n",
       "      <td>NaN</td>\n",
       "      <td>NaN</td>\n",
       "      <td>NaN</td>\n",
       "      <td>NaN</td>\n",
       "      <td>NaN</td>\n",
       "      <td>NaN</td>\n",
       "      <td>NaN</td>\n",
       "      <td>NaN</td>\n",
       "      <td>...</td>\n",
       "      <td>NO</td>\n",
       "      <td>NO</td>\n",
       "      <td>YES</td>\n",
       "      <td>NO</td>\n",
       "      <td>NO</td>\n",
       "      <td>NO</td>\n",
       "      <td>NO</td>\n",
       "      <td>YES</td>\n",
       "      <td>NO</td>\n",
       "      <td>YES</td>\n",
       "    </tr>\n",
       "  </tbody>\n",
       "</table>\n",
       "<p>2 rows × 58 columns</p>\n",
       "</div>"
      ],
      "text/plain": [
       "    x1   x2  x10  x11  x12  x13  x14  x24  x25  x26  ... x116 x117 x126 x127  \\\n",
       "0   NO   NO  YES   NO   NO   NO   NO  YES   NO  YES  ...   NO  YES  YES   NO   \n",
       "1  NaN  NaN  NaN  NaN  NaN  NaN  NaN  NaN  NaN  NaN  ...   NO   NO  YES   NO   \n",
       "\n",
       "  x128 x129 x130 x140 x141 x142  \n",
       "0   NO   NO   NO  YES   NO  YES  \n",
       "1   NO   NO   NO  YES   NO  YES  \n",
       "\n",
       "[2 rows x 58 columns]"
      ]
     },
     "execution_count": 15,
     "metadata": {},
     "output_type": "execute_result"
    }
   ],
   "source": [
    "object = data_x.select_dtypes(include = [np.object])\n",
    "category = object.drop([\"x3\",\"x4\"], axis=1)\n",
    "category.head(2)"
   ]
  },
  {
   "cell_type": "code",
   "execution_count": 16,
   "metadata": {},
   "outputs": [
    {
     "data": {
      "text/plain": [
       "<matplotlib.axes._subplots.AxesSubplot at 0x2da1ceb8>"
      ]
     },
     "execution_count": 16,
     "metadata": {},
     "output_type": "execute_result"
    },
    {
     "data": {
      "image/png": "[encoded data removed]",
      "text/plain": [
       "<Figure size 1080x576 with 2 Axes>"
      ]
     },
     "metadata": {
      "needs_background": "light"
     },
     "output_type": "display_data"
    }
   ],
   "source": [
    "plt.figure(figsize=(15,8))\n",
    "sns.heatmap(category.isnull())"
   ]
  },
  {
   "cell_type": "code",
   "execution_count": 17,
   "metadata": {},
   "outputs": [],
   "source": [
    "from scipy.stats import mode\n",
    "\n",
    "for cat in category:\n",
    "    cat_mode = category[cat].mode()[0]"
   ]
  },
  {
   "cell_type": "code",
   "execution_count": 18,
   "metadata": {},
   "outputs": [],
   "source": [
    "for cat in category:\n",
    "    category[cat].fillna(cat_mode, inplace=True)\n"
   ]
  },
  {
   "cell_type": "code",
   "execution_count": 19,
   "metadata": {},
   "outputs": [
    {
     "data": {
      "text/plain": [
       "<matplotlib.axes._subplots.AxesSubplot at 0x3198b710>"
      ]
     },
     "execution_count": 19,
     "metadata": {},
     "output_type": "execute_result"
    },
    {
     "data": {
      "image/png": "[encoded data removed]",
      "text/plain": [
       "<Figure size 1080x576 with 2 Axes>"
      ]
     },
     "metadata": {
      "needs_background": "light"
     },
     "output_type": "display_data"
    }
   ],
   "source": [
    "plt.figure(figsize=(15,8))\n",
    "sns.heatmap(category.isnull())"
   ]
  },
  {
   "cell_type": "code",
   "execution_count": 21,
   "metadata": {},
   "outputs": [
    {
     "data": {
      "text/html": [
       "<div>\n",
       "<style scoped>\n",
       "    .dataframe tbody tr th:only-of-type {\n",
       "        vertical-align: middle;\n",
       "    }\n",
       "\n",
       "    .dataframe tbody tr th {\n",
       "        vertical-align: top;\n",
       "    }\n",
       "\n",
       "    .dataframe thead th {\n",
       "        text-align: right;\n",
       "    }\n",
       "</style>\n",
       "<table border=\"1\" class=\"dataframe\">\n",
       "  <thead>\n",
       "    <tr style=\"text-align: right;\">\n",
       "      <th></th>\n",
       "      <th>id</th>\n",
       "      <th>x5</th>\n",
       "      <th>x6</th>\n",
       "      <th>x7</th>\n",
       "      <th>x8</th>\n",
       "      <th>x9</th>\n",
       "      <th>x15</th>\n",
       "      <th>x16</th>\n",
       "      <th>x17</th>\n",
       "      <th>x18</th>\n",
       "      <th>...</th>\n",
       "      <th>x133</th>\n",
       "      <th>x134</th>\n",
       "      <th>x135</th>\n",
       "      <th>x136</th>\n",
       "      <th>x137</th>\n",
       "      <th>x138</th>\n",
       "      <th>x139</th>\n",
       "      <th>x143</th>\n",
       "      <th>x144</th>\n",
       "      <th>x145</th>\n",
       "    </tr>\n",
       "  </thead>\n",
       "  <tbody>\n",
       "    <tr>\n",
       "      <th>0</th>\n",
       "      <td>1</td>\n",
       "      <td>0.576561</td>\n",
       "      <td>0.073139</td>\n",
       "      <td>0.481394</td>\n",
       "      <td>0.115697</td>\n",
       "      <td>0.472474</td>\n",
       "      <td>42</td>\n",
       "      <td>0.396065</td>\n",
       "      <td>3</td>\n",
       "      <td>6</td>\n",
       "      <td>...</td>\n",
       "      <td>5</td>\n",
       "      <td>6</td>\n",
       "      <td>0.987596</td>\n",
       "      <td>0.0</td>\n",
       "      <td>0.81</td>\n",
       "      <td>3306</td>\n",
       "      <td>4676</td>\n",
       "      <td>2</td>\n",
       "      <td>0.375535</td>\n",
       "      <td>0.46461</td>\n",
       "    </tr>\n",
       "    <tr>\n",
       "      <th>1</th>\n",
       "      <td>2</td>\n",
       "      <td>0.000000</td>\n",
       "      <td>0.000000</td>\n",
       "      <td>0.000000</td>\n",
       "      <td>0.000000</td>\n",
       "      <td>0.000000</td>\n",
       "      <td>0</td>\n",
       "      <td>0.000000</td>\n",
       "      <td>0</td>\n",
       "      <td>0</td>\n",
       "      <td>...</td>\n",
       "      <td>4</td>\n",
       "      <td>6</td>\n",
       "      <td>0.968240</td>\n",
       "      <td>0.0</td>\n",
       "      <td>0.51</td>\n",
       "      <td>4678</td>\n",
       "      <td>3306</td>\n",
       "      <td>4</td>\n",
       "      <td>0.741682</td>\n",
       "      <td>0.59363</td>\n",
       "    </tr>\n",
       "  </tbody>\n",
       "</table>\n",
       "<p>2 rows × 86 columns</p>\n",
       "</div>"
      ],
      "text/plain": [
       "   id        x5        x6        x7        x8        x9  x15       x16  x17  \\\n",
       "0   1  0.576561  0.073139  0.481394  0.115697  0.472474   42  0.396065    3   \n",
       "1   2  0.000000  0.000000  0.000000  0.000000  0.000000    0  0.000000    0   \n",
       "\n",
       "   x18  ...  x133  x134      x135  x136  x137  x138  x139  x143      x144  \\\n",
       "0    6  ...     5     6  0.987596   0.0  0.81  3306  4676     2  0.375535   \n",
       "1    0  ...     4     6  0.968240   0.0  0.51  4678  3306     4  0.741682   \n",
       "\n",
       "      x145  \n",
       "0  0.46461  \n",
       "1  0.59363  \n",
       "\n",
       "[2 rows x 86 columns]"
      ]
     },
     "execution_count": 21,
     "metadata": {},
     "output_type": "execute_result"
    }
   ],
   "source": [
    "num = data_x.select_dtypes(include = [np.number])\n",
    "num.head(2)"
   ]
  },
  {
   "cell_type": "code",
   "execution_count": 22,
   "metadata": {},
   "outputs": [
    {
     "data": {
      "text/plain": [
       "<matplotlib.axes._subplots.AxesSubplot at 0x31871668>"
      ]
     },
     "execution_count": 22,
     "metadata": {},
     "output_type": "execute_result"
    },
    {
     "data": {
      "image/png": "[encoded data removed]",
      "text/plain": [
       "<Figure size 1080x576 with 2 Axes>"
      ]
     },
     "metadata": {
      "needs_background": "light"
     },
     "output_type": "display_data"
    }
   ],
   "source": [
    "plt.figure(figsize=(15,8))\n",
    "sns.heatmap(num.isnull())"
   ]
  },
  {
   "cell_type": "code",
   "execution_count": 23,
   "metadata": {},
   "outputs": [
    {
     "data": {
      "text/html": [
       "<div>\n",
       "<style scoped>\n",
       "    .dataframe tbody tr th:only-of-type {\n",
       "        vertical-align: middle;\n",
       "    }\n",
       "\n",
       "    .dataframe tbody tr th {\n",
       "        vertical-align: top;\n",
       "    }\n",
       "\n",
       "    .dataframe thead th {\n",
       "        text-align: right;\n",
       "    }\n",
       "</style>\n",
       "<table border=\"1\" class=\"dataframe\">\n",
       "  <thead>\n",
       "    <tr style=\"text-align: right;\">\n",
       "      <th></th>\n",
       "      <th>x1</th>\n",
       "      <th>x2</th>\n",
       "      <th>x10</th>\n",
       "      <th>x11</th>\n",
       "      <th>x12</th>\n",
       "      <th>x13</th>\n",
       "      <th>x14</th>\n",
       "      <th>x24</th>\n",
       "      <th>x25</th>\n",
       "      <th>x26</th>\n",
       "      <th>...</th>\n",
       "      <th>x133</th>\n",
       "      <th>x134</th>\n",
       "      <th>x135</th>\n",
       "      <th>x136</th>\n",
       "      <th>x137</th>\n",
       "      <th>x138</th>\n",
       "      <th>x139</th>\n",
       "      <th>x143</th>\n",
       "      <th>x144</th>\n",
       "      <th>x145</th>\n",
       "    </tr>\n",
       "  </thead>\n",
       "  <tbody>\n",
       "    <tr>\n",
       "      <th>0</th>\n",
       "      <td>NO</td>\n",
       "      <td>NO</td>\n",
       "      <td>YES</td>\n",
       "      <td>NO</td>\n",
       "      <td>NO</td>\n",
       "      <td>NO</td>\n",
       "      <td>NO</td>\n",
       "      <td>YES</td>\n",
       "      <td>NO</td>\n",
       "      <td>YES</td>\n",
       "      <td>...</td>\n",
       "      <td>5</td>\n",
       "      <td>6</td>\n",
       "      <td>0.987596</td>\n",
       "      <td>0.0</td>\n",
       "      <td>0.81</td>\n",
       "      <td>3306</td>\n",
       "      <td>4676</td>\n",
       "      <td>2</td>\n",
       "      <td>0.375535</td>\n",
       "      <td>0.46461</td>\n",
       "    </tr>\n",
       "    <tr>\n",
       "      <th>1</th>\n",
       "      <td>YES</td>\n",
       "      <td>YES</td>\n",
       "      <td>YES</td>\n",
       "      <td>YES</td>\n",
       "      <td>YES</td>\n",
       "      <td>YES</td>\n",
       "      <td>YES</td>\n",
       "      <td>YES</td>\n",
       "      <td>YES</td>\n",
       "      <td>YES</td>\n",
       "      <td>...</td>\n",
       "      <td>4</td>\n",
       "      <td>6</td>\n",
       "      <td>0.968240</td>\n",
       "      <td>0.0</td>\n",
       "      <td>0.51</td>\n",
       "      <td>4678</td>\n",
       "      <td>3306</td>\n",
       "      <td>4</td>\n",
       "      <td>0.741682</td>\n",
       "      <td>0.59363</td>\n",
       "    </tr>\n",
       "  </tbody>\n",
       "</table>\n",
       "<p>2 rows × 144 columns</p>\n",
       "</div>"
      ],
      "text/plain": [
       "    x1   x2  x10  x11  x12  x13  x14  x24  x25  x26  ... x133 x134      x135  \\\n",
       "0   NO   NO  YES   NO   NO   NO   NO  YES   NO  YES  ...    5    6  0.987596   \n",
       "1  YES  YES  YES  YES  YES  YES  YES  YES  YES  YES  ...    4    6  0.968240   \n",
       "\n",
       "  x136  x137  x138  x139 x143      x144     x145  \n",
       "0  0.0  0.81  3306  4676    2  0.375535  0.46461  \n",
       "1  0.0  0.51  4678  3306    4  0.741682  0.59363  \n",
       "\n",
       "[2 rows x 144 columns]"
      ]
     },
     "execution_count": 23,
     "metadata": {},
     "output_type": "execute_result"
    }
   ],
   "source": [
    "x = category.join(num)\n",
    "x.head(2)"
   ]
  },
  {
   "cell_type": "code",
   "execution_count": 24,
   "metadata": {},
   "outputs": [
    {
     "data": {
      "text/plain": [
       "<matplotlib.axes._subplots.AxesSubplot at 0x323b17b8>"
      ]
     },
     "execution_count": 24,
     "metadata": {},
     "output_type": "execute_result"
    },
    {
     "data": {
      "image/png": "[encoded data removed]",
      "text/plain": [
       "<Figure size 1080x576 with 2 Axes>"
      ]
     },
     "metadata": {
      "needs_background": "light"
     },
     "output_type": "display_data"
    }
   ],
   "source": [
    "plt.figure(figsize=(15,8))\n",
    "sns.heatmap(x.isnull())"
   ]
  },
  {
   "cell_type": "code",
   "execution_count": 25,
   "metadata": {},
   "outputs": [
    {
     "name": "stdout",
     "output_type": "stream",
     "text": [
      "NO     7729\n",
      "YES    2270\n",
      "Name: x1, dtype: int64\n",
      "NO     8048\n",
      "YES    1951\n",
      "Name: x2, dtype: int64\n",
      "NO     5343\n",
      "YES    4656\n",
      "Name: x10, dtype: int64\n",
      "NO     8375\n",
      "YES    1624\n",
      "Name: x11, dtype: int64\n",
      "NO     5466\n",
      "YES    4533\n",
      "Name: x12, dtype: int64\n",
      "NO     8343\n",
      "YES    1656\n",
      "Name: x13, dtype: int64\n",
      "NO     7373\n",
      "YES    2626\n",
      "Name: x14, dtype: int64\n",
      "NO     5396\n",
      "YES    4603\n",
      "Name: x24, dtype: int64\n",
      "NO     8480\n",
      "YES    1519\n",
      "Name: x25, dtype: int64\n",
      "NO     5386\n",
      "YES    4613\n",
      "Name: x26, dtype: int64\n",
      "NO     9229\n",
      "YES     770\n",
      "Name: x30, dtype: int64\n",
      "NO     9470\n",
      "YES     529\n",
      "Name: x31, dtype: int64\n",
      "NO     8821\n",
      "YES    1178\n",
      "Name: x32, dtype: int64\n",
      "NO     9149\n",
      "YES     850\n",
      "Name: x33, dtype: int64\n",
      "MZZbXga8gvaCBqWpzrh2iKdOkcsz/bG/z4BVjUnqWT0=    330\n",
      "YES                                             284\n",
      "X/hdUOVR5KuExVGLzjhLcM2CyIqym9t0Nh+ZX05M+1w=    121\n",
      "eJx14rwQfTLCTs9Hx4dFFx8ZyJh7d1lRa8TM31ae/cI=     61\n",
      "3acC0FNTp8BjTkXkLzy9LJSB0FmLpzsJhDtE3riGZ9A=     57\n",
      "cr+kkNnNFV9YL0vz029hk3ohIDmGuABRVNhFe0ePZyo=     48\n",
      "Pr5enXjzVzVjZziZxrDcgnyu6CLUftmEbnp6TctyJbU=     45\n",
      "8Whd23AFTt1KV61HEnaVzYZCSZsw5sqqmf4WUmWd3bQ=     43\n",
      "dsyhxXKNNJy4WVGD/v4+UGyW3jHWkx2xTdg3STsf34A=     41\n",
      "zq3MyXbqpnH+txFzhEWomNfZyeLXubUbZwdaRvKXLs4=     41\n",
      "x4ZSntGbx3BETDURJUCCyghFITBw0VjgvAJ6MqTzVew=     37\n",
      "Ehzd34oIn9he/JkfeoYTPIAuVKUc1C6Ygn9KZ/P+6NY=     35\n",
      "m5L1gU5gqVRl202bsd4bnfsAkf7VyXSuHW1m02wGFBY=     33\n",
      "mRPnGiKVOWTk/vzZaqlLXZRtdrkcQ/sX0hqBCqOuKq0=     32\n",
      "j13sSnJIhp+O8t4qN7/bY5/1SEzCXEUBSP9gI1LCJZA=     30\n",
      "DV3FbHLG32qIwmA2z7SnDt2nyO1rmErsz4QEVuYLmYI=     29\n",
      "ib4VpsEsqJHzDiyL0dZLQ+xQzDPrkxE+9T3mx5fv2wI=     29\n",
      "4pzHl/IfbJz9LyT+KXdmSwd6BEw9mYOzpFHHpsPPiLA=     28\n",
      "xFoMBMUeUtbdJ5Ippu/woIxwnnIYIIe61pLRe1N9RXI=     27\n",
      "M4ra4ZsGWR+veMAUMfpKnI4R8f5lQmz332MQ1RAcPGY=     26\n",
      "tUjlchINUNdtrddj2oqXqNnlXAZ7uwfYRBAuVt4E5nQ=     25\n",
      "gbr3PJLTl1f/ldb/7iaFmTs2qXlBigUE6/dkEIqiUYg=     24\n",
      "0teiLGJ0gW6S9jb6SOjyiAmgONlQjfPMPxGiDWB5cRY=     22\n",
      "Y8J2b2Rp7dwylYm/ZSsI1GmlStYKWmOXZ44BvpO96/4=     22\n",
      "agc8FVBMic6EolhEfqwtOnlXKsa4sdfzQFrKrigAZzI=     21\n",
      "+X/rq+4qeKy2UVQN5xLQHSbri0Vdd/mYdG7WH/Kn+Pg=     21\n",
      "3Oxco0DDbsBbJGVCpazCcwnEMLcMAAjpJ5AFtUIoExE=     20\n",
      "wh24HWybggsU/oicsk5Aa3yaVthlJ54D3mA3r4OMaRc=     19\n",
      "kaixMUmxqaPEX4QvLtS43RkstS05AA7XUPzQXVCFyUQ=     19\n",
      "Fbxx+hFXc9klhGnZNA9BTB9g2pE29P8//lf9g+AMX1s=     19\n",
      "                                               ... \n",
      "qh2vmrCU5x5JrZApsNdiveDOqP8lhWP2ivQYmh7SOV0=      1\n",
      "JgzlCS94Hlxlo7uYL7cLovYk9h+8qU9F3qeQ1spUW9s=      1\n",
      "GSUaxWOg4ozlmA43sxZEoVOUjdQ6QNtJozxDGEk/wO8=      1\n",
      "KE8742IeHb5yHxv0mJi61DWmZhIzFkCQ0XwEkKo/9uc=      1\n",
      "WEYcYG+1clSOWQon9hOFN2rk0VJphs9SlVyvkW8yBFw=      1\n",
      "7uM/FTaKJWW5je40Y616f43/7T5CQHfW+R6pt5T7VhE=      1\n",
      "T6lAjKuSKQBUp18/Dhheb1essxojal+SepdpP5UNssg=      1\n",
      "aJ70o83p90cC6L98Cx9P6KPaxAaoWU1wPHpfxaGwZR8=      1\n",
      "ll4oZTJg+yWkR2qh+w0RatHpg2hmcI65aKhv+nChYoo=      1\n",
      "n6d+486zTiK7uKBCtczC2l5sBLEAKx4v1ly7mWuqgjI=      1\n",
      "wHlxShRleZjXH+6a/meCzF9v2TXugJNcJyaCH4O2qew=      1\n",
      "UdT78MCiWmnpVmT/3YJTG44ic7ThbZvv1S7U2kUinoU=      1\n",
      "CTwxQdjwn/8G7o12SS3iD6XGHNzDjw55rQ8NJGgo+HI=      1\n",
      "/s5dfbWJFM5RUKw4jXIPUVOkS+EEBDt4dLPSASCxbgg=      1\n",
      "IUOrgDepcBlGYXIrwX5RuH3U3039PrjtC9o3cKZbLMg=      1\n",
      "wng1Nnxnj3+4ZKIroKXPbTmPjgIv/yjio49JSSkZHbU=      1\n",
      "B6xUMlKbCBAlUpeocIevOYTTmkLYAhMKnjvmq62xd0M=      1\n",
      "FRgInkb4dyqePFbOOeexl5CDro7SQRhoCgruOVpcvdI=      1\n",
      "Y5d4HowQxM/A6KGfGSx4Gcu/OwYdOl+eL0WxOgberNw=      1\n",
      "PNrBRxz0M/TC6ISpN+LSLyboi/lmBs1MR2X6MBbg68w=      1\n",
      "dJ3yYe9+66UTcksjZWDKDESvf/VWPRBS9MnHZOnPer8=      1\n",
      "vVBoivw+EAi392ufHbbDwtbN0QVYF1jy84Q0RaQnBz4=      1\n",
      "xK5MyYXWaJjET+rXWwir3rZL//zJ72SVh3jmAQVh3pw=      1\n",
      "DodXQ2WEAc4mJOc07WDHUxt+PQcx8K2uHtPoxcKCx4s=      1\n",
      "JgWw26rCVfpooB8kerGIeClN/q2L+l9dBxc3JcUXnrc=      1\n",
      "k409sPLo9GG2yem1Ci69gIuF1O6t4O4Y6Wq28+AO8IU=      1\n",
      "NMzgmrQxdj0ply2aWC9Qp0ZRGSyYhSdw6ATiDCGPo4I=      1\n",
      "sBWz5IDZtABg6tTNZ0WfwyC6xTRFkC1ycYQl5PjyYUs=      1\n",
      "SxrN5zjiCPTMI6fKX4Evafvr3qtw7/5XcjvaY0DM7s4=      1\n",
      "SQbyzKkWs+I60/KAnijKmfDnDNxPbO0rawvrhFqH7CM=      1\n",
      "Name: x34, Length: 5569, dtype: int64\n",
      "YvZUuCDjLu9VvkCdBWgARWQrvm+FSXgxp0zIrMjcLBc=    500\n",
      "X6dDAI/DZOWvu0Dg6gCgRoNr2vTUz/mc4SdHTNUPS38=    402\n",
      "FExKgjj6CsbToTubdZ+kGsOmUx3gCvZVJCdZPcdPNF4=    358\n",
      "B+EJpnEbkYtLnwDQYN1dP1rcfnoCnxAjKLYwQZE07Ew=    349\n",
      "hCXwO/JldK5zcd9ejOD1FwmEgCf96eTdEVy7OtY2Y2g=    321\n",
      "WV5vAHFyqkeuyFB5KVNGFOBuwjkUGKYc8wh9QfpVzAA=    307\n",
      "IoM2E9pNxABFR+H3yfapUL+ThKm7GtTzY7js9H/H99o=    284\n",
      "YES                                             284\n",
      "1CiKJR7D66tRwH6l6wwv0p+D/tAuoW+NdSNqPTbvDoQ=    283\n",
      "oo9tGpHvTredpg9JkHgYbZAuxcwtSpQxU5mA/zUbxY8=    278\n",
      "3yK2OPj1uYDsoMgsxsjY1FxXkOllD8Xfh20VYGqT+nU=    243\n",
      "+yhSY//Hpg7u0bSA7NYmcmRFgv3bF4Tw3BMHrBqaTtA=    237\n",
      "olN1LoaeSyI8h+udI/jquozrw4R8YQ+cVwHq1dOUO5s=    209\n",
      "BWlzsfzvLpUVVqvMBbjZ4zlrnQb/agQ7zCXv27i3RUw=    186\n",
      "pHy5/m37WXgicL2NksCPoQ54Fpgz+pPWudDtbA2ZrTM=    182\n",
      "YGCdISifn4fLao/ASKdZFhGIq23oqzfSbUVb6px1pig=    148\n",
      "tnLDGLnpYhzsik5+X+WPo4KQJoQA0TfWRlmEtQ3XNJQ=    141\n",
      "UJ6HD3MWNNVneGDG59A3UmhLYttkTkdzFtM2PSIdWyk=    137\n",
      "Bhg+0J0lfRinR5zfd+vnAV8zB05KEQNnQx+1uylTscI=    133\n",
      "E+Ir+5bpooXHpsC4L/CYJdQBYT4L9IhL/Y+UT14xGks=    123\n",
      "Kr2CC15nSwDjdpyAeVh4vOuIaHuC/Q7cL9BAK28JoG8=    122\n",
      "4LhhvTzxwvh2SnFtcpaRasyvph66a3YDIQCshAfyS2o=    122\n",
      "ubHy/++3FVAS97znZOt7L+cjkZFJREIiJPRZEfRIztc=    121\n",
      "k7qeSsXVD80i5fS79Vr5Ru6zFMOUUXVnSTDGr8GExHM=    113\n",
      "EI0dNKKW6d1fYeK0fkGEp7/pY1RFj2bw/Pk47eN1Ls4=    107\n",
      "b4OjaLjMA420VMpXhx+E2iaW+vRBxUlTr8QpwmPeM2E=    106\n",
      "rB07AAHPffU4zFFF8IrqfKSltyWcPyy4+q+IM5SLZiQ=    103\n",
      "DPMubReLUctb4CKC75lbXJO030Si6cjLqJqk4hIOxoQ=    101\n",
      "cWXOV9Udau/PopgiND/QOX5DpFDLgaLQhfPw8B82PjY=    100\n",
      "ABhwE8nsQMtFix2MDemgmGfoV68Tn3hLpZRXWVTQ0TM=     91\n",
      "                                               ... \n",
      "VEJyA7Z9pfRAw11BP6qLVuwGf9PAGyvFnNzDrDfKWE0=      1\n",
      "5ok04idnFNkebMR3U8AGO+7K9x7cfcSGVrF0WeJ7o30=      1\n",
      "w6sWUbWLg30/FAlF0tDzPANxlzJZ4WJknUWj+2cpYP8=      1\n",
      "0Apu4FGW38Q6JcMUP3F2dLUuCWjacKcnfGlUI0UjVLQ=      1\n",
      "1rykCp+Ae2gRkQkmAEB2yMmT4+2Q96Dt2IGToANSyeo=      1\n",
      "4taeYH7jDb4gj713EgMNRFugAw4H790O/Zy14lf/Ar0=      1\n",
      "eSdDBm56T0K83r0XbJ+LpRKwMi5ONzNFJSorOtlsMyo=      1\n",
      "5n2DsstD33PsE7cQUoZLRrKQjTLr/savo7hZe7C0ziA=      1\n",
      "ZI2M1tH7Umr38SI6LwMstK7wef2W0kVjuiktFf/XBGI=      1\n",
      "Y8c/rrTwdNGqcx85M/KQ1yu/oChfiuaCuhcvVKMzGz8=      1\n",
      "ruWe9WwVFe7PZ6OlL+BA6j4oW4cH71hRf7sMvNCDj7M=      1\n",
      "8bElFOGUOAZKq62R6wkViMc7eTEtQJvrdUPWd7+ISNM=      1\n",
      "pOQBoVAxbKC9qCrUjmefrEQaTEcF6S23KAXeTfrWuY0=      1\n",
      "VhyRhmxoRrhTvdhlf2Xp1ivTqS+kNJpUHQaeFcvIL2I=      1\n",
      "z7DahLWBjH8qAXhTBJ3yKgkJBrEjh+4xoJsyhRlS4W4=      1\n",
      "odcNqPzjtqz2WWfuWmDX4iIuDmODt9pbZfIcjXOr/EU=      1\n",
      "zx1vpqzPLnHNz9mImqhYe3EQPthMazSXzBSmDRi5muQ=      1\n",
      "lWfTfFL2XEiteqhv4Lv6Iu+5DbYJBli8nV9L6NkbQhI=      1\n",
      "P+BQSZ1apat07BWnEQSLTK9FeFUZE285y4M4tkRsFYI=      1\n",
      "RjqmJ9Q2Bwiy4PRFhrGzWYq9479rSTtTkQ01e/YHE7c=      1\n",
      "rLk3afcssnDJdNm2cEMt9QHBIwC3cHh0AMC5AQjbfxs=      1\n",
      "quLY7xzIlRv1c/f4lNmWzEfk2CKULEnySbvKCc+Ulyo=      1\n",
      "maoczh3qLKEfAHLLr9xzrYKSLM5ucrM9qXDdRAkOgZQ=      1\n",
      "hPBnnFkvQ26ubvcYESVQNE8NmhkD1jK+wDoq+IVw1f8=      1\n",
      "0KkJkr7mfPi7tXg5b03sjWqdNLvUkYIAi3+m43IkiW0=      1\n",
      "bWXPMtF3ZfsB6Tjobl4jPs4cxz72E4pjojXGAZXfqgY=      1\n",
      "ZQgzS0uXxPZC1fOo45t/xHwFn5jPjWFnaUvqwpXX3lA=      1\n",
      "yJ2GZKK6rLRkpKAeqmTzePS0XrPLAR3zi+7MV9N5DkE=      1\n",
      "brwFou3f5KHiZewMFhL3Af9IRskIzaOMyBOK0w9osEg=      1\n",
      "Kwgvxmgw5QyMfA+yQAXr4hlsmUh+9kiZ5QrstRQNiBE=      1\n",
      "Name: x35, Length: 981, dtype: int64\n",
      "NO     6158\n",
      "YES    3841\n",
      "Name: x41, dtype: int64\n",
      "NO     9601\n",
      "YES     398\n",
      "Name: x42, dtype: int64\n",
      "NO     6857\n",
      "YES    3142\n",
      "Name: x43, dtype: int64\n",
      "NO     9579\n",
      "YES     420\n",
      "Name: x44, dtype: int64\n",
      "NO     8684\n",
      "YES    1315\n",
      "Name: x45, dtype: int64\n",
      "NO     6251\n",
      "YES    3748\n",
      "Name: x55, dtype: int64\n",
      "NO     9582\n",
      "YES     417\n",
      "Name: x56, dtype: int64\n",
      "NO     6220\n",
      "YES    3779\n",
      "Name: x57, dtype: int64\n",
      "X/hdUOVR5KuExVGLzjhLcM2CyIqym9t0Nh+ZX05M+1w=    355\n",
      "MZZbXga8gvaCBqWpzrh2iKdOkcsz/bG/z4BVjUnqWT0=    316\n",
      "8Whd23AFTt1KV61HEnaVzYZCSZsw5sqqmf4WUmWd3bQ=    101\n",
      "cr+kkNnNFV9YL0vz029hk3ohIDmGuABRVNhFe0ePZyo=     82\n",
      "agc8FVBMic6EolhEfqwtOnlXKsa4sdfzQFrKrigAZzI=     58\n",
      "xFoMBMUeUtbdJ5Ippu/woIxwnnIYIIe61pLRe1N9RXI=     50\n",
      "nDTjGMlfzk1RPaewS/ytOQsFA1HmJlFNsxfBTl78LdI=     36\n",
      "Pr5enXjzVzVjZziZxrDcgnyu6CLUftmEbnp6TctyJbU=     31\n",
      "j2dlVbZnNLjVl0AjkkHkqidFgQzKLHZlM410jfkG9p4=     30\n",
      "zq3MyXbqpnH+txFzhEWomNfZyeLXubUbZwdaRvKXLs4=     27\n",
      "x4ZSntGbx3BETDURJUCCyghFITBw0VjgvAJ6MqTzVew=     26\n",
      "6mN9q0SpEK4kBt17oPKCMJnI5C9lw2fbBFZp581NCwo=     25\n",
      "3acC0FNTp8BjTkXkLzy9LJSB0FmLpzsJhDtE3riGZ9A=     23\n",
      "ib4VpsEsqJHzDiyL0dZLQ+xQzDPrkxE+9T3mx5fv2wI=     22\n",
      "tEdXPxwjPyPImUANdjAG8cEtXQlBiXy8dZJhGZhzvj0=     21\n",
      "wh24HWybggsU/oicsk5Aa3yaVthlJ54D3mA3r4OMaRc=     21\n",
      "zuTM97uXZFFrNvw5EORKw3bb2wTl+bHLWUxYJK/Eers=     21\n",
      "WmRPBSBmxN/kDx/gEBEfWm1M3xmsoaRpIvIRhpEcU7I=     20\n",
      "m/m91A62TG6D7crdQTdYd9eeMO8xNcbN7N7iwgclLp0=     17\n",
      "cSuQaz0xx+UxAtskjMBN1xCeacDm/4oJYEIDFL3CMoU=     17\n",
      "p8+Fg/7zVuXwMfQhnbFo6jWbBSc9xt7pQ/ZZRzVmxNE=     15\n",
      "NrwbzyY3+vWF3qW1v7fq/srp7XtVV1+iSYiZ/jHQa6s=     15\n",
      "XcT/E7vegvl0I7uoWZv4k8b+kawKkY+Ke4rtkjkbLFY=     14\n",
      "dsyhxXKNNJy4WVGD/v4+UGyW3jHWkx2xTdg3STsf34A=     14\n",
      "02GpzxGcFfNUT3MzTLxORPDKsZrz5jlrr2l0WZ0Oav4=     14\n",
      "xMNF4OaHmv+PRjuE9hUrLRWaAUKwGAPLJFuzHjTFNnc=     14\n",
      "XG1yhWdtiqJMQcRr41mY3veOpZtIje+ggSxuaOldtUM=     14\n",
      "Oo2rlTD5uwqG1CF+t6A8DzC0yj/T98slLYfvPdhUF2M=     14\n",
      "uqY+owLvwAN7jhR9IUp3LLtRa5gkXBbDoChjr8cLzY4=     14\n",
      "ihLRhLHTJlLbIdZyEWNQBUNIeoX/VdvDNCuVT/jNuoM=     14\n",
      "                                               ... \n",
      "7Hvjh/LAj2aG2vE3yok8zo7/TO9CaZIXrGekYKht0gY=      1\n",
      "dWLQWBQ2/6KD4sT29T68O4uH2T1V/EZrI+eKARbZDxk=      1\n",
      "uMz8ISEsVD37cU22LReTuhybk31SRBvlNHC0MQyZIP8=      1\n",
      "72ldCDcuR9AUJoGN2hULUuTr5jL9qGe5pINGSTp3uxM=      1\n",
      "GOpZB1GFYQyInNqEi4TsJT5EFc8yCDxfn/yYPJDJ14k=      1\n",
      "b0EWnj45+tOrgNqISUfdgYkuotEyVAGz8sOWyoW9fLA=      1\n",
      "xtx2oygfWYaCtXBMSmxUAK2cFCAltHHEtT/ePTfUnqY=      1\n",
      "BUqQnHyAJ1aOzEN7F59ryfujfkx1su3ACwmLKZ0Cbxw=      1\n",
      "LFIY2xKL7Xc+3fCA3vZrQpDtBonrkLFwuVrnxqsoD3M=      1\n",
      "e47OuwwuwBnebTBq1VPBYdeGPQv9Jz46ybXHvrxeUj8=      1\n",
      "bMxmXzrNPDC2BYIToqXY1Ogw/EhkKXQP/M4t8EWQ7d0=      1\n",
      "zqHD1OH+VtM548wl2VBo11wYeFSuLm19UcvAb2n0Lz4=      1\n",
      "59z9TQUUyPHb4Wp66EbraNwM/w0gmIrXEYkxZJGxgwk=      1\n",
      "6YZT8XPV8kToTv4WwSekCcDzc/tL+R26U3DSXSoEF/4=      1\n",
      "yUqKUolkYFLoPTCkCttPVFtMikDX57iyEDmykBJF6Rw=      1\n",
      "w+Gft72euoHJlRPFQjGCCASDQbSRH9/Y/Q0du+Taqf4=      1\n",
      "aaIacEk9pxB4Bled0XrUY9tVUru6cU6beLxLoW1w4pE=      1\n",
      "Iz2X371/+T2sELo5x/AzEdaiw12HtQhc3of4s+DMV6w=      1\n",
      "ZjwWZtf/WNvIkTvSyhUi4iHT/HYktOyFhypOcHPgSWE=      1\n",
      "Y/uPrnpmhuvGjqG6Rvnd4ZLVivgnc42jiM1J0/bamRE=      1\n",
      "iFTUnnDxUv/hvToj+uQ+uxLqwFmbKuOSPhIUZo8wIdc=      1\n",
      "rKFZBDg8EQBQECQL7yOOqlGiAz/SduFDSM11VxlRC+M=      1\n",
      "3sYifKytRXcMtRqb9EYYT/YfV5riGY45wCl044prRqU=      1\n",
      "FJxMYLnKvATQQJsQhYrf1Ihv6dcaSfImLkMfv97SX+M=      1\n",
      "aiJByRJGX600oOVCT+XgsHprb0fZJPdYrFzsX1lS3Hw=      1\n",
      "jP/OOBB1+aleNXqQ3W07rOZJ6Yf2HMGMgKec2aIEOYQ=      1\n",
      "4wA2pX3Y21JL4Syt+WZCVK7FlZoMTy3ufTgHGYfdUU8=      1\n",
      "6e5v3mxVwUBiHPX2QxWO+PFq6Ab8WsHNlBhk04llABs=      1\n",
      "NwU+zxRylmEOuklQnayq7WtWurRxODp21u93MFBpJ0o=      1\n",
      "FtZTnRi0Vh2isTp1uOYi2mXLEKRmw8vqrxqIhqMxJNY=      1\n",
      "Name: x61, Length: 7115, dtype: int64\n",
      "NO     8703\n",
      "YES    1296\n",
      "Name: x62, dtype: int64\n",
      "NO     9021\n",
      "YES     978\n",
      "Name: x63, dtype: int64\n",
      "YES                                             396\n",
      "MZZbXga8gvaCBqWpzrh2iKdOkcsz/bG/z4BVjUnqWT0=    361\n",
      "eJx14rwQfTLCTs9Hx4dFFx8ZyJh7d1lRa8TM31ae/cI=    110\n",
      "X/hdUOVR5KuExVGLzjhLcM2CyIqym9t0Nh+ZX05M+1w=    102\n",
      "8Whd23AFTt1KV61HEnaVzYZCSZsw5sqqmf4WUmWd3bQ=     50\n",
      "3acC0FNTp8BjTkXkLzy9LJSB0FmLpzsJhDtE3riGZ9A=     48\n",
      "cr+kkNnNFV9YL0vz029hk3ohIDmGuABRVNhFe0ePZyo=     41\n",
      "ib4VpsEsqJHzDiyL0dZLQ+xQzDPrkxE+9T3mx5fv2wI=     39\n",
      "DV3FbHLG32qIwmA2z7SnDt2nyO1rmErsz4QEVuYLmYI=     37\n",
      "1/5hNAPFORjmYwbXBigENm+gjaqJZVBhwe5g4zDbcdM=     36\n",
      "zq3MyXbqpnH+txFzhEWomNfZyeLXubUbZwdaRvKXLs4=     36\n",
      "Pr5enXjzVzVjZziZxrDcgnyu6CLUftmEbnp6TctyJbU=     36\n",
      "xFoMBMUeUtbdJ5Ippu/woIxwnnIYIIe61pLRe1N9RXI=     34\n",
      "agc8FVBMic6EolhEfqwtOnlXKsa4sdfzQFrKrigAZzI=     31\n",
      "j13sSnJIhp+O8t4qN7/bY5/1SEzCXEUBSP9gI1LCJZA=     31\n",
      "x4ZSntGbx3BETDURJUCCyghFITBw0VjgvAJ6MqTzVew=     31\n",
      "Y8J2b2Rp7dwylYm/ZSsI1GmlStYKWmOXZ44BvpO96/4=     30\n",
      "m5L1gU5gqVRl202bsd4bnfsAkf7VyXSuHW1m02wGFBY=     29\n",
      "mRPnGiKVOWTk/vzZaqlLXZRtdrkcQ/sX0hqBCqOuKq0=     27\n",
      "4pzHl/IfbJz9LyT+KXdmSwd6BEw9mYOzpFHHpsPPiLA=     26\n",
      "M4ra4ZsGWR+veMAUMfpKnI4R8f5lQmz332MQ1RAcPGY=     26\n",
      "Ehzd34oIn9he/JkfeoYTPIAuVKUc1C6Ygn9KZ/P+6NY=     23\n",
      "0teiLGJ0gW6S9jb6SOjyiAmgONlQjfPMPxGiDWB5cRY=     22\n",
      "wh24HWybggsU/oicsk5Aa3yaVthlJ54D3mA3r4OMaRc=     22\n",
      "m/m91A62TG6D7crdQTdYd9eeMO8xNcbN7N7iwgclLp0=     21\n",
      "Jhv7iEw2A1lus93/GEPONQRcqeIykMsN7MGv0YDnPOg=     19\n",
      "/A8gcPhvt4VEgUwvb8EOaJsx1W/EJcRZvR+LpZQCG5I=     18\n",
      "gKn+kPYGpD6MOgg9+FIdvFe6fmpZ9HOMCXqi3ho2Iwo=     17\n",
      "tUjlchINUNdtrddj2oqXqNnlXAZ7uwfYRBAuVt4E5nQ=     16\n",
      "dsyhxXKNNJy4WVGD/v4+UGyW3jHWkx2xTdg3STsf34A=     16\n",
      "                                               ... \n",
      "Acnjk442oZuCeYyny/UI6YeQbG08jlBUz1oTfXFeTRk=      1\n",
      "ic3HcwPdQui/mFI0ZNjiVh2cdHMkPcaQSmWKV+VaNDA=      1\n",
      "TNtBMXSFMXvAbpN9YtBV2U+txGIgg0vnfnV9Wc147qU=      1\n",
      "9lK6/Sxw5qOQhgoVprBmjpdF7YfezggNhKq/jWsyXcg=      1\n",
      "TqL9cs8ZFzALzVpZv6wYBDi+6zwhrdarQE/3FH+XAlA=      1\n",
      "ojTHUwYKhSX3lWZPcKdWoTL4254o+WlKj6N3KiwOZyU=      1\n",
      "7YFVUyuXGoMHE/xWngFnamKyV+NUGh5DFR8OxZ2p1Z8=      1\n",
      "w3IqZGDNvysblAyp3Tls+f8ZCKUZTmfS73zs8EBldY4=      1\n",
      "72VK2PO1quIBIB2+fYgkIrgOevXJLlgvaonhYjtDmB8=      1\n",
      "83TFyfRhrLFW56lAp7jE9rijcGSkbM8wFbRh474VK+M=      1\n",
      "n6d+486zTiK7uKBCtczC2l5sBLEAKx4v1ly7mWuqgjI=      1\n",
      "4PLgSijqrP2Jxn0DfP053jPBZEPbz2Fl7wlnNu4KJc4=      1\n",
      "aJ70o83p90cC6L98Cx9P6KPaxAaoWU1wPHpfxaGwZR8=      1\n",
      "WEYcYG+1clSOWQon9hOFN2rk0VJphs9SlVyvkW8yBFw=      1\n",
      "PeJ3lkkYzPoJLA1vipr3RA89rajeouncTgpeu6mOS88=      1\n",
      "+H7h9M1MJPiQCKWrftHMTHLCL020O4WQZTSMEyh5TKE=      1\n",
      "uT/extOZlC2d62NeQUEe6TdGH73vDJeFwqsJSgbgUgQ=      1\n",
      "WRG7hbwmWTGoaEZvGrr1w31qIHUzNhjhdQzlPRcpOnM=      1\n",
      "KavEi6rnwcoQhznbeaMzKML3ztA492tcUbul/a2Oe68=      1\n",
      "X2dSyuH8k8G/fO4dsWvXDDhPTZE74BXqk3n9udtHCR8=      1\n",
      "5Oveg1MQG44DpSSJ2gt/qKv9rLqX34xgGpUBp52OTMo=      1\n",
      "wlPmfmhxmOYzOak3usU3IAAbAdXl0WyJf+Tul13i/mE=      1\n",
      "kme3d1BtwwhwBatfyjVlkZOc4v+jUVExnq7dMnDfVfw=      1\n",
      "L9SN6TioLZGUzEtvg0RtW+hEuPBNOuH6k2H2Llle9fE=      1\n",
      "MChjGoTpekIt3vysHKSt4VpPYyOVgNZsyCQqPGgKVFs=      1\n",
      "lhCAu37NRD8KMzbvTgNvCsOcjlQKiIzbGdjNb7pUDxo=      1\n",
      "3tXyB7RJdvCA/LE7k+kxprtHpqfJX6TFuWobZZ8AwI0=      1\n",
      "Pash5ApNzMYkvLOEIww3ws2AGLijzJAzuDmUCKtyuws=      1\n",
      "Vb1JCE7iBQ+06e59jga6WrG/4hKa4qOjTD3/mNNSmO0=      1\n",
      "dzME+fXboamP2XvO2YaUZ8115kYqnFbaP+1W9DhXoZQ=      1\n",
      "Name: x64, Length: 5678, dtype: int64\n",
      "YvZUuCDjLu9VvkCdBWgARWQrvm+FSXgxp0zIrMjcLBc=    516\n",
      "X6dDAI/DZOWvu0Dg6gCgRoNr2vTUz/mc4SdHTNUPS38=    408\n",
      "YES                                             396\n",
      "B+EJpnEbkYtLnwDQYN1dP1rcfnoCnxAjKLYwQZE07Ew=    349\n",
      "WV5vAHFyqkeuyFB5KVNGFOBuwjkUGKYc8wh9QfpVzAA=    329\n",
      "FExKgjj6CsbToTubdZ+kGsOmUx3gCvZVJCdZPcdPNF4=    299\n",
      "hCXwO/JldK5zcd9ejOD1FwmEgCf96eTdEVy7OtY2Y2g=    296\n",
      "1CiKJR7D66tRwH6l6wwv0p+D/tAuoW+NdSNqPTbvDoQ=    290\n",
      "oo9tGpHvTredpg9JkHgYbZAuxcwtSpQxU5mA/zUbxY8=    236\n",
      "IoM2E9pNxABFR+H3yfapUL+ThKm7GtTzY7js9H/H99o=    235\n",
      "+yhSY//Hpg7u0bSA7NYmcmRFgv3bF4Tw3BMHrBqaTtA=    220\n",
      "BWlzsfzvLpUVVqvMBbjZ4zlrnQb/agQ7zCXv27i3RUw=    212\n",
      "3yK2OPj1uYDsoMgsxsjY1FxXkOllD8Xfh20VYGqT+nU=    180\n",
      "pHy5/m37WXgicL2NksCPoQ54Fpgz+pPWudDtbA2ZrTM=    161\n",
      "olN1LoaeSyI8h+udI/jquozrw4R8YQ+cVwHq1dOUO5s=    160\n",
      "ubHy/++3FVAS97znZOt7L+cjkZFJREIiJPRZEfRIztc=    147\n",
      "tnLDGLnpYhzsik5+X+WPo4KQJoQA0TfWRlmEtQ3XNJQ=    147\n",
      "E+Ir+5bpooXHpsC4L/CYJdQBYT4L9IhL/Y+UT14xGks=    136\n",
      "UJ6HD3MWNNVneGDG59A3UmhLYttkTkdzFtM2PSIdWyk=    128\n",
      "4LhhvTzxwvh2SnFtcpaRasyvph66a3YDIQCshAfyS2o=    124\n",
      "YGCdISifn4fLao/ASKdZFhGIq23oqzfSbUVb6px1pig=    123\n",
      "Bhg+0J0lfRinR5zfd+vnAV8zB05KEQNnQx+1uylTscI=    118\n",
      "Kr2CC15nSwDjdpyAeVh4vOuIaHuC/Q7cL9BAK28JoG8=    113\n",
      "d28bSUtXtKyMcZhN5TAHjJ7GsLlBY/XPBkrhDm5O7XA=    110\n",
      "k7qeSsXVD80i5fS79Vr5Ru6zFMOUUXVnSTDGr8GExHM=    109\n",
      "EI0dNKKW6d1fYeK0fkGEp7/pY1RFj2bw/Pk47eN1Ls4=    104\n",
      "DPMubReLUctb4CKC75lbXJO030Si6cjLqJqk4hIOxoQ=    101\n",
      "cWXOV9Udau/PopgiND/QOX5DpFDLgaLQhfPw8B82PjY=     96\n",
      "b4OjaLjMA420VMpXhx+E2iaW+vRBxUlTr8QpwmPeM2E=     91\n",
      "aZTF/lredyP4cukeN8bh6kpBjYmS1QFNpPOg2LVm3Lg=     89\n",
      "                                               ... \n",
      "MnkihgkqeCivNzMxxslnMp0ZIcEp7v+8tYlQd76UNIM=      1\n",
      "lH02bmRyKMWUmjk9OIuM7Z/Fy5kpu0kiWUZHQhcMWwE=      1\n",
      "wTnhAfiwN1qrzNTGemEmnXp1QNENagKgr7yVs9JXwYU=      1\n",
      "S87NfJ75KCxDQuOT9/HltO7LdNkTbj/Ijrxl2vcAe8M=      1\n",
      "t03lnu4RxFPBZsY9YH1hjzOzNPquev3yBH35huMzZro=      1\n",
      "qoSZYwqnBwxvD4di6JLYVS1t5VXlZbQEYGMy8vhRqfY=      1\n",
      "f/1U2vlNexh4JAMrzjjCTbQRWiSd0J4Fdj6h/PYTyFw=      1\n",
      "WdY7cOhbXMYQU/Ys5rJDvdolHvEYcV3fKsnn3fOspTk=      1\n",
      "ETmNqXj7I9RPsP0AcVlewHEuRF85NyImwQLhrmTbXMk=      1\n",
      "VY1XzbQcX0it8J5TgUImyGQFPF6Q3qLKIprm5IUAISc=      1\n",
      "HJwrSGSAyGsKMyfDT+q0x4diIGeaXZBkcJ76QtqaT6Y=      1\n",
      "1lXSfhckbGJ65OImAEAXqCFsj1nvgQC0x3Wb/yrXZ6Y=      1\n",
      "MulKsVgoTwQf2l1ECuDDfeDe1DUf6Oq5D+wHyKnwCj4=      1\n",
      "5YlLuzgKRsjbOcD+DV0trZn+nd2ndGHNYfDvpbMhH8E=      1\n",
      "qDRQARslqQnhYwNe7edgx4pSybbAED0q0oURkxBIaT4=      1\n",
      "BCecp8bKVP//XMPwphKSChOCFzGBJJGZuRKZzmWLdME=      1\n",
      "BfEuVckXRsFwMwqcsQqShEod8gCVRFRHYqThEy7MaJU=      1\n",
      "CBZUJ1jCGegeoMdxllx5oZw+UjDHR1zsJmHOOgYzuks=      1\n",
      "uL3sJKOA6U87OYlpXksz4Rer4JLbmxRNnyDtYzRwzxw=      1\n",
      "YIRLfpFNzoueM8Fyeh4tJ9PNAaia/EdQFYaa/za/xt8=      1\n",
      "LJp3hX7a2dUg9RtUUF1ykNJk4IpWThRxciGDN9LVJJc=      1\n",
      "pIjRtkwUCmBJdKvq3INpV4nqS4FX5J8M5Lw1mfb/FaM=      1\n",
      "HJbOAcU96lOWwfpQ3cdxoBvOj6X73qVbJdJ1oYFzYIk=      1\n",
      "KBSmup2BHNVfQ3oEDDB/Ovw57D5jZVQUfAd1/njBQ1s=      1\n",
      "DWrhji5yJCAbA2fzTbRPS1BPyg64HOCfiJa6i19Z5I8=      1\n",
      "kYwJp6fyMUO/wSVTZQ/KVdMvMNWaetcExUXjAMkKoUA=      1\n",
      "hObUw+L7H9DAB0azgXxMKIiqNjXUGQz5mzatPPlwln4=      1\n",
      "4KxsuKAj7xotKoFiaBsE+wo+yxVlv8SJmL2ndzd7Y4s=      1\n",
      "BGj165v8+1STXUS9HSAaSstOoNmG81Z6JGQqAuN6qkw=      1\n",
      "mtaTT8xn/4e+F6WwrGaE1z8afW563GvhrucVn+0Y7bo=      1\n",
      "Name: x65, Length: 1019, dtype: int64\n",
      "NO     5900\n",
      "YES    4099\n",
      "Name: x71, dtype: int64\n",
      "NO     9506\n",
      "YES     493\n",
      "Name: x72, dtype: int64\n",
      "NO     6873\n",
      "YES    3126\n",
      "Name: x73, dtype: int64\n",
      "NO     9482\n",
      "YES     517\n",
      "Name: x74, dtype: int64\n",
      "NO     8604\n",
      "YES    1395\n",
      "Name: x75, dtype: int64\n",
      "NO     5997\n",
      "YES    4002\n",
      "Name: x85, dtype: int64\n",
      "NO     9454\n",
      "YES     545\n",
      "Name: x86, dtype: int64\n",
      "NO     5969\n",
      "YES    4030\n",
      "Name: x87, dtype: int64\n",
      "+yhSY//Hpg7u0bSA7NYmcmRFgv3bF4Tw3BMHrBqaTtA=    524\n",
      "YvZUuCDjLu9VvkCdBWgARWQrvm+FSXgxp0zIrMjcLBc=    431\n",
      "WV5vAHFyqkeuyFB5KVNGFOBuwjkUGKYc8wh9QfpVzAA=    346\n",
      "X6dDAI/DZOWvu0Dg6gCgRoNr2vTUz/mc4SdHTNUPS38=    339\n",
      "B+EJpnEbkYtLnwDQYN1dP1rcfnoCnxAjKLYwQZE07Ew=    330\n",
      "hCXwO/JldK5zcd9ejOD1FwmEgCf96eTdEVy7OtY2Y2g=    161\n",
      "pHy5/m37WXgicL2NksCPoQ54Fpgz+pPWudDtbA2ZrTM=    143\n",
      "aZTF/lredyP4cukeN8bh6kpBjYmS1QFNpPOg2LVm3Lg=    116\n",
      "YtyI9plCt+7CY8Wk/CRBV1sy18Q0VZLCGQB14GN2jWk=    108\n",
      "oo9tGpHvTredpg9JkHgYbZAuxcwtSpQxU5mA/zUbxY8=    107\n",
      "BWlzsfzvLpUVVqvMBbjZ4zlrnQb/agQ7zCXv27i3RUw=    105\n",
      "FExKgjj6CsbToTubdZ+kGsOmUx3gCvZVJCdZPcdPNF4=    105\n",
      "1CiKJR7D66tRwH6l6wwv0p+D/tAuoW+NdSNqPTbvDoQ=     99\n",
      "XSJ6E8aAoZC7/KAu3eETpfMg3mCq7HVBFIVIsoMKh9E=     95\n",
      "IoM2E9pNxABFR+H3yfapUL+ThKm7GtTzY7js9H/H99o=     83\n",
      "olN1LoaeSyI8h+udI/jquozrw4R8YQ+cVwHq1dOUO5s=     78\n",
      "YGCdISifn4fLao/ASKdZFhGIq23oqzfSbUVb6px1pig=     77\n",
      "kNNF/t6RVxA5ameB+lwcboBR1SrJrAugJ5ILm6d0xvQ=     75\n",
      "E+Ir+5bpooXHpsC4L/CYJdQBYT4L9IhL/Y+UT14xGks=     72\n",
      "k7qeSsXVD80i5fS79Vr5Ru6zFMOUUXVnSTDGr8GExHM=     65\n",
      "ubHy/++3FVAS97znZOt7L+cjkZFJREIiJPRZEfRIztc=     64\n",
      "2if/h7qpQsKt/reWu8/myixjJOCG/0OtrBQjCsPQchQ=     60\n",
      "3yK2OPj1uYDsoMgsxsjY1FxXkOllD8Xfh20VYGqT+nU=     59\n",
      "gNVKedeHcKHyWnIMnBCE9t9XOschRQCU8/XfcaY0mMk=     56\n",
      "4LhhvTzxwvh2SnFtcpaRasyvph66a3YDIQCshAfyS2o=     56\n",
      "tnLDGLnpYhzsik5+X+WPo4KQJoQA0TfWRlmEtQ3XNJQ=     56\n",
      "0oAxtVzGQ5YAHj8qRenlWHXEsQFeEh+XUAy4iiQ4R2s=     56\n",
      "QOBh25+uzoHmnz6VKQS8uSwA1/j/5PGCd64bFXZkhks=     55\n",
      "UJ6HD3MWNNVneGDG59A3UmhLYttkTkdzFtM2PSIdWyk=     50\n",
      "A0qW1vORvEPazvD0/mLe06Hm//wfSuxG8qBnFBj8RlI=     50\n",
      "                                               ... \n",
      "lElFrZt/x+07prForzuEgMInqllL9ODVc/6sXX3YDNg=      1\n",
      "LkwdMqsUEKG/GOjhbSfS65AjyAzFSPQbC5BpOp9NWjg=      1\n",
      "pmYC3koWG8kHSOFXPCgH1NUzx19wYX4s23vIpwrVuZs=      1\n",
      "wxONZtjU37Micauf2+9egp9fVQFfYr5UJq2i+xMGwjY=      1\n",
      "ptFajfkvDkZCYsG8zGNgaWRic1HnVBzYsfvXjJrsS2A=      1\n",
      "awkPtWnpgTYiaZcA5mKgGHBtjYvJHfxNzQ7Vyqx0owU=      1\n",
      "05Syg3J5jNAOnN2qEa0MdDcr7DtJ4VtoVEaQEQkaL+0=      1\n",
      "QSZ5EJm67C0h/dH8POOTDRu+2A6qdId2I0am8hY70yk=      1\n",
      "EZt06TfkjRWrXeDWqMWm6kcHlNWL5w5oUp+0MOi21JU=      1\n",
      "LVhn237gExcx1FZUoFnL7GdhJBti5hsvXvRB0NmWV9g=      1\n",
      "+FRuMpNMp8ewHZqysTs/cXSyrZv6j7WO1bVitbwPzWI=      1\n",
      "aozSjgvD7zVH6sQuDmFjDdi+6MPCUDJ85RLlsZnczvY=      1\n",
      "iAwVBTker75VnvsxHzeYM0EJ+qMbNV2ujVpREGAPvHs=      1\n",
      "JZSZ8JfmPMYcQG9yV/cp2LQQKqs9AJ2IBMFyiLTBcME=      1\n",
      "5Rzk40KSCuDjovts6hiE3EnSchEDFuTqDcp6fGeEdCQ=      1\n",
      "WW/97Uz1Y9VoukRP1uZQq7s1i7qhhuOAIjdRlKOP6jE=      1\n",
      "4AcQFzoGpZexk8CMG2WrVmtsYR1kQlV8Ght9HCwQNcI=      1\n",
      "f0bC7/MZ8SdhtFlSA6tn9O++SnJwTXJu3fwxszlBPHs=      1\n",
      "6ru15YKgIidndexXl4FjtX1uTRODguQtjKNnKWZVFfI=      1\n",
      "rsIW/mKpYTLxiJSnqDcLaBsqSnzvOKjnqgyRP5ZsKsw=      1\n",
      "wyVJd4noKgqA+VN784mQpxpF0Py0KKFVAdDP8MqtagU=      1\n",
      "QR+yvvSVG7z6esDzzMnuua2V6QFxPHAmH68c8AnONZA=      1\n",
      "FoQGM+61kv4Cm9UBKpdSW/UZEpBhMH1MnG2NpIa7+rU=      1\n",
      "RwuRoDiyRlNHgKlRvpRAaCZUH1s/CBOXwuy1rEeuVCE=      1\n",
      "SfKdu5ZmP/j2VAVn51+W7/sSUMqZH4c0mbYWUctmTfk=      1\n",
      "LSo7DNio5EzHEWU3OWFJU3gSTulgMiTsjArgMGLkzRg=      1\n",
      "YdYuR4LKAYlf1arc0BdMybt6U8AwPuq3Ke0do64tAB8=      1\n",
      "jtEUs0Xgbp5jeS2GSyFSjAr5exLsn9Avs0+j+ODCFLs=      1\n",
      "w1b3WG5S+yeaq2Cp6GIjqDZ3gtN/iTu+sDWM/dDl8io=      1\n",
      "mtaTT8xn/4e+F6WwrGaE1z8afW563GvhrucVn+0Y7bo=      1\n",
      "Name: x91, Length: 3396, dtype: int64\n",
      "NO     8300\n",
      "YES    1699\n",
      "Name: x92, dtype: int64\n",
      "NO     8702\n",
      "YES    1297\n"
     ]
    },
    {
     "name": "stdout",
     "output_type": "stream",
     "text": [
      "Name: x93, dtype: int64\n",
      "YES                                             851\n",
      "MZZbXga8gvaCBqWpzrh2iKdOkcsz/bG/z4BVjUnqWT0=    278\n",
      "x4ZSntGbx3BETDURJUCCyghFITBw0VjgvAJ6MqTzVew=    162\n",
      "X/hdUOVR5KuExVGLzjhLcM2CyIqym9t0Nh+ZX05M+1w=    119\n",
      "mWCV8iMVdaiWTqS7HaB/oybcK5sTEPmzsopjn2TMayg=     84\n",
      "3acC0FNTp8BjTkXkLzy9LJSB0FmLpzsJhDtE3riGZ9A=     72\n",
      "zq3MyXbqpnH+txFzhEWomNfZyeLXubUbZwdaRvKXLs4=     67\n",
      "cr+kkNnNFV9YL0vz029hk3ohIDmGuABRVNhFe0ePZyo=     57\n",
      "ib4VpsEsqJHzDiyL0dZLQ+xQzDPrkxE+9T3mx5fv2wI=     50\n",
      "0teiLGJ0gW6S9jb6SOjyiAmgONlQjfPMPxGiDWB5cRY=     49\n",
      "m5L1gU5gqVRl202bsd4bnfsAkf7VyXSuHW1m02wGFBY=     48\n",
      "agc8FVBMic6EolhEfqwtOnlXKsa4sdfzQFrKrigAZzI=     44\n",
      "4pzHl/IfbJz9LyT+KXdmSwd6BEw9mYOzpFHHpsPPiLA=     40\n",
      "DV3FbHLG32qIwmA2z7SnDt2nyO1rmErsz4QEVuYLmYI=     40\n",
      "xFoMBMUeUtbdJ5Ippu/woIxwnnIYIIe61pLRe1N9RXI=     36\n",
      "tUjlchINUNdtrddj2oqXqNnlXAZ7uwfYRBAuVt4E5nQ=     34\n",
      "eGbYCJsF9xvj5SPelKu6SycpQ4Bb/NllTSlILjgYcJU=     33\n",
      "Ehzd34oIn9he/JkfeoYTPIAuVKUc1C6Ygn9KZ/P+6NY=     32\n",
      "kaixMUmxqaPEX4QvLtS43RkstS05AA7XUPzQXVCFyUQ=     32\n",
      "/A8gcPhvt4VEgUwvb8EOaJsx1W/EJcRZvR+LpZQCG5I=     31\n",
      "m/m91A62TG6D7crdQTdYd9eeMO8xNcbN7N7iwgclLp0=     31\n",
      "dsyhxXKNNJy4WVGD/v4+UGyW3jHWkx2xTdg3STsf34A=     31\n",
      "8Whd23AFTt1KV61HEnaVzYZCSZsw5sqqmf4WUmWd3bQ=     30\n",
      "M4ra4ZsGWR+veMAUMfpKnI4R8f5lQmz332MQ1RAcPGY=     28\n",
      "Fbxx+hFXc9klhGnZNA9BTB9g2pE29P8//lf9g+AMX1s=     27\n",
      "Tb8lLR2txqEAvuI4UNOjdZG+ia3m3OzTlnPeVQ8zsVg=     27\n",
      "Zl0KGzPNtJSATbMn4a9UuZsDoo+PtaMby5byRAveZwo=     25\n",
      "qyemYRzOAcokSqS/92nD6ek2GOy82zS8Zr+OtdK3K1o=     24\n",
      "f3ul26TdjlIvxdlmlIxJbUGKke+NQEFFb4Jb5UB2Vvo=     24\n",
      "lsLkdilrSTL8RRVEk9g0jtW1gbqOdFpSJi0mcE5OfNI=     24\n",
      "                                               ... \n",
      "AQMAi0234AXFgCYtP9hPKEEDPFHBJO+zzHjtVWf7ApQ=      1\n",
      "XL5BOzpJX14QWvrNq7drh5JonS7T3Mh93vDRBw71coE=      1\n",
      "JkdvrlLiZ8Ze/AWCEKSa6wLhd0rGo1WQEXsgPFMRhfY=      1\n",
      "Ua0g+6WVdB0Mitb6fqKrpRuGi+zh4siLexj5U0A0lY4=      1\n",
      "Vku7ohAiVDLkH/522Mj3kw1XLSd3RWrtx8fF3Q4TW+M=      1\n",
      "W1BfXGlloE74aV6e629Hxtj/EoOfZfnwt7RKMZ7C1b8=      1\n",
      "UTxsiSNZ0Nop/7SlaHnUGbIjBjDetOTPhVR/HYh/Psc=      1\n",
      "gulcXKrzRd0IGWpzTzgi5Q7+ck7J6UGxmPCNZxGsP9I=      1\n",
      "xlCQZbVugdKK013pGoF1ToiXnmwVEXsdKkOAjvhAS00=      1\n",
      "4WyVBzAxooQxfOohFgQF/4ob7P0VBpZb099ZrMu0kzM=      1\n",
      "vyoL3RDBNWeYXEI0vYeY/1pqYoI5PczwMk0dedrPxg0=      1\n",
      "6FNss+YDQkerylKrKo55ZH4RIAArFdaS6Rlgg1XUP24=      1\n",
      "3/n6LtXF0dCEkb9J5KELLlu3fT6uJMeq+fqkeXJOdEA=      1\n",
      "PA22Th+eLj8+es1eX6+r98Zhaw4sIXNZfSSOBbrRcVY=      1\n",
      "GKrj3HJKlIUnXIY78t0zBE4Siyx0EcoX1AvKCbPQIRk=      1\n",
      "BC6CiDz9B8M+qikUeudFv/7IPTrMvcLxOtV92FEZGEA=      1\n",
      "CO1HezxJRDNQVy0jNFjdU3QYLMSTIcl63mC8A2bTtyo=      1\n",
      "vN4g6dOO3WEQC2KH4vyKc7mDAbaFNeJcbJMY7hIlo70=      1\n",
      "ebWoff1ES2NQjIC9n/2sBa3jsixeKbAfuKKmaH4sEx8=      1\n",
      "KX2ayTDK/3Zc1/1Rv7Rgg3IMrOwwudFXray17jomYl4=      1\n",
      "4FIxS25OrBv/DHbmmVLtScptssXXAhNxD087PPzA9BU=      1\n",
      "GuYyqW3r++10TieDD5k/sxcP5FHkZi7ZhFkDdOhdis8=      1\n",
      "H3PdReNJVV0holYwTxBsg62os33bGm0bWr4PLXto6Tk=      1\n",
      "H0trxE/92R1QnOLYTZe3a8tvGSOIBg0HxS6+X+vHSCs=      1\n",
      "q+1Q2CfuiOe8wzNyWuRDQlej74KdssyLbrpqPZaA07U=      1\n",
      "UaPteZMQR5/DUPVkz5jc4BhQLqEe6JDkkaegpLy/deY=      1\n",
      "a4UziQ91Im63WEdohf2Og7CU4+ISX4PEFZ7MT13ziiA=      1\n",
      "kkuKF2s+zb4mIBWwIJ+wqzuRbVmpQsx6j38uU4cGL5U=      1\n",
      "uzpnI6V5FpBs5E9JCHEZxeZtVVGk5/lkHFEs6GsWw8Y=      1\n",
      "7ckKts8QwyysMx8zxk5KhRevV+WO0/UoYm8Q+lETwqI=      1\n",
      "Name: x94, Length: 4648, dtype: int64\n",
      "YES                                             851\n",
      "hCXwO/JldK5zcd9ejOD1FwmEgCf96eTdEVy7OtY2Y2g=    660\n",
      "X6dDAI/DZOWvu0Dg6gCgRoNr2vTUz/mc4SdHTNUPS38=    544\n",
      "YvZUuCDjLu9VvkCdBWgARWQrvm+FSXgxp0zIrMjcLBc=    385\n",
      "FExKgjj6CsbToTubdZ+kGsOmUx3gCvZVJCdZPcdPNF4=    314\n",
      "oo9tGpHvTredpg9JkHgYbZAuxcwtSpQxU5mA/zUbxY8=    271\n",
      "+yhSY//Hpg7u0bSA7NYmcmRFgv3bF4Tw3BMHrBqaTtA=    262\n",
      "1CiKJR7D66tRwH6l6wwv0p+D/tAuoW+NdSNqPTbvDoQ=    261\n",
      "3yK2OPj1uYDsoMgsxsjY1FxXkOllD8Xfh20VYGqT+nU=    247\n",
      "tnLDGLnpYhzsik5+X+WPo4KQJoQA0TfWRlmEtQ3XNJQ=    241\n",
      "4LhhvTzxwvh2SnFtcpaRasyvph66a3YDIQCshAfyS2o=    240\n",
      "B+EJpnEbkYtLnwDQYN1dP1rcfnoCnxAjKLYwQZE07Ew=    226\n",
      "IoM2E9pNxABFR+H3yfapUL+ThKm7GtTzY7js9H/H99o=    214\n",
      "ubHy/++3FVAS97znZOt7L+cjkZFJREIiJPRZEfRIztc=    208\n",
      "BWlzsfzvLpUVVqvMBbjZ4zlrnQb/agQ7zCXv27i3RUw=    199\n",
      "pHy5/m37WXgicL2NksCPoQ54Fpgz+pPWudDtbA2ZrTM=    195\n",
      "WV5vAHFyqkeuyFB5KVNGFOBuwjkUGKYc8wh9QfpVzAA=    149\n",
      "UJ6HD3MWNNVneGDG59A3UmhLYttkTkdzFtM2PSIdWyk=    148\n",
      "EI0dNKKW6d1fYeK0fkGEp7/pY1RFj2bw/Pk47eN1Ls4=    145\n",
      "7GjnXIaqLV/fxjKUHRk+et7LlMVoaP1iUHGLt0gUz5w=    142\n",
      "Kr2CC15nSwDjdpyAeVh4vOuIaHuC/Q7cL9BAK28JoG8=    138\n",
      "k7qeSsXVD80i5fS79Vr5Ru6zFMOUUXVnSTDGr8GExHM=    134\n",
      "olN1LoaeSyI8h+udI/jquozrw4R8YQ+cVwHq1dOUO5s=    128\n",
      "E+Ir+5bpooXHpsC4L/CYJdQBYT4L9IhL/Y+UT14xGks=    107\n",
      "Bhg+0J0lfRinR5zfd+vnAV8zB05KEQNnQx+1uylTscI=    101\n",
      "b4OjaLjMA420VMpXhx+E2iaW+vRBxUlTr8QpwmPeM2E=     95\n",
      "cWXOV9Udau/PopgiND/QOX5DpFDLgaLQhfPw8B82PjY=     92\n",
      "YGCdISifn4fLao/ASKdZFhGIq23oqzfSbUVb6px1pig=     87\n",
      "DPMubReLUctb4CKC75lbXJO030Si6cjLqJqk4hIOxoQ=     85\n",
      "8FufTisikMofib8ImAVGv0xbN0G9pg0C9xZNihS2Rqc=     84\n",
      "                                               ... \n",
      "8FlaL6/aWD512oUCeMYI0Lz7OjL43NYHF+HoXf2NPuY=      1\n",
      "Aub9miSMGUmgVydliZDxJcwtawDvhuEgM1+vx/5RzRY=      1\n",
      "yQQYJwlIvnHWEibr0+EjjMXPhI+JOltdZTCh2d9CNEE=      1\n",
      "flw7R2bZcHJgc6XFnzI0nUOjfAWaGVGhzO1wOYq5qOk=      1\n",
      "eGVmmcZla3Lf3ke9ZkvgSX4SnpV8gX4IJwkVCjv01c4=      1\n",
      "bZtfEa8QwkR5uXS1h/AOx8YD5lHKF5JsuulZEWjkhTA=      1\n",
      "DYIfgtEYsTWqHl585w3I/weNI8577xyTLFepMMOt9Ag=      1\n",
      "gPTdacZHY+VLr1A6Rh6OBihwSJyvmp0W/DrBgkM16E0=      1\n",
      "REKs5g8qpbvwqNrxKnYeBdz6LjLkbVL8uEwflE0b+CI=      1\n",
      "SJ3KFq+rENZ1CgQyFYcv9zIR8+l/5hk8TL0QWaKhq7s=      1\n",
      "ISDHOh+avVydN1WzaL3ghB+uHhIANgadNDfzUi4/DFI=      1\n",
      "SlOJ9+3Jg8uYI+QxqGgCGUPnCBC/OQneZ6lzeTOjsOU=      1\n",
      "BukhM2qidi41NX9uCTPtgMAFaJ76jfMhIE+4PeKW8h8=      1\n",
      "ThzkoyHlIJ3QU/8ccUHuZm+l691W3Emlfl+1N0X6DLw=      1\n",
      "Ha9ePN1Wmoz1yeBxlrkWWJxJWXXNQnq2IrcRe7KQgRQ=      1\n",
      "c0Pm/9b+VGc/XkwBWTWZC0g4t027CrBO8IWgpfpXLT0=      1\n",
      "A/nXIRaYbX9JuZGkR+I34tZDM+OBUHepEfM/nhvZSFQ=      1\n",
      "DMiMgb5ajMYEVppCVTG8zR91M3A9/bSzqgW4zZKm26Y=      1\n",
      "Cmc6iaLRFEpe7qOGsZFEQHUFcM7GQub2MudW1C26ars=      1\n",
      "0DCT8rAZLY5bkl2gSgICsXlg80Bku4iaAsSZBZ8g0vc=      1\n",
      "vF64+rQxVtZShEcwNNg6XRmdpHFX5ycxeeWhg3GM+jg=      1\n",
      "S77tSyRquBripbeFBIK9Qt4qrcEHQGHWSsnDktg5XTo=      1\n",
      "wzDjqjrtBdwoDBc4KB9xhusCsS44LdsMSeNJNmaUdqg=      1\n",
      "N0/rg8cSFB0kIO/MDoq2g+EbVwCyxRLG2vS6DUtNpZc=      1\n",
      "LGOVi2zEfPNK40HXS7xxcZaQAg3s0opRhWQ1aKbRTDM=      1\n",
      "8ziPHnJ4RxJ5SMpVIyNSeASvHksmIXgqQ6WGubrJPPQ=      1\n",
      "9veBH1Yu+jPZaBcvwybNjnMEcHL4H//nmztLDGxkXLA=      1\n",
      "zZlBemwp5v3TcGzmYc5TWXFVBuTiIiI/rLl1Ty07Msw=      1\n",
      "SOpbPYis4DeRSPVseOjFi08mkE/4rBTa6UpLK4jd+CE=      1\n",
      "ZCJCylf4sw+tY8saCm9X43f/pBkWhoZ/V5+ydzu5Nwc=      1\n",
      "Name: x95, Length: 760, dtype: int64\n",
      "NO     6366\n",
      "YES    3633\n",
      "Name: x101, dtype: int64\n",
      "NO     8963\n",
      "YES    1036\n",
      "Name: x102, dtype: int64\n",
      "NO     5851\n",
      "YES    4148\n",
      "Name: x103, dtype: int64\n",
      "NO     8924\n",
      "YES    1075\n",
      "Name: x104, dtype: int64\n",
      "NO     7903\n",
      "YES    2096\n",
      "Name: x105, dtype: int64\n",
      "NO     6397\n",
      "YES    3602\n",
      "Name: x115, dtype: int64\n",
      "NO     9068\n",
      "YES     931\n",
      "Name: x116, dtype: int64\n",
      "NO     6392\n",
      "YES    3607\n",
      "Name: x117, dtype: int64\n",
      "YES    5510\n",
      "NO     4489\n",
      "Name: x126, dtype: int64\n",
      "NO     9939\n",
      "YES      60\n",
      "Name: x127, dtype: int64\n",
      "NO     5552\n",
      "YES    4447\n",
      "Name: x128, dtype: int64\n",
      "NO     9748\n",
      "YES     251\n",
      "Name: x129, dtype: int64\n",
      "NO     7814\n",
      "YES    2185\n",
      "Name: x130, dtype: int64\n",
      "YES    5258\n",
      "NO     4741\n",
      "Name: x140, dtype: int64\n",
      "NO     9783\n",
      "YES     216\n",
      "Name: x141, dtype: int64\n",
      "YES    5336\n",
      "NO     4663\n",
      "Name: x142, dtype: int64\n"
     ]
    }
   ],
   "source": [
    "for col in category:\n",
    "    a = category[col].value_counts()\n",
    "    print(a)"
   ]
  },
  {
   "cell_type": "code",
   "execution_count": 26,
   "metadata": {},
   "outputs": [
    {
     "name": "stdout",
     "output_type": "stream",
     "text": [
      "<class 'pandas.core.frame.DataFrame'>\n",
      "RangeIndex: 9999 entries, 0 to 9998\n",
      "Columns: 136 entries, x1 to x145\n",
      "dtypes: float64(55), int64(31), object(50)\n",
      "memory usage: 10.4+ MB\n"
     ]
    }
   ],
   "source": [
    "x.drop([\"x33\",\"x34\",\"x57\",\"x63\",\"x64\",\"x87\",\"x93\",\"x94\"], axis=1, inplace=True)\n",
    "x.info()"
   ]
  },
  {
   "cell_type": "code",
   "execution_count": 27,
   "metadata": {},
   "outputs": [],
   "source": [
    "from sklearn.preprocessing import LabelEncoder\n",
    "le = LabelEncoder()"
   ]
  },
  {
   "cell_type": "code",
   "execution_count": 28,
   "metadata": {},
   "outputs": [
    {
     "name": "stderr",
     "output_type": "stream",
     "text": [
      "C:\\Users\\Saurabh\\Anaconda3\\lib\\site-packages\\ipykernel_launcher.py:2: DeprecationWarning: Converting `np.inexact` or `np.floating` to a dtype is deprecated. The current result is `float64` which is not strictly correct.\n",
      "  \n"
     ]
    }
   ],
   "source": [
    "for col in x.columns:\n",
    "    if x[col].dtype == np.number:\n",
    "        continue\n",
    "    x[col] = le.fit_transform(x[col])"
   ]
  },
  {
   "cell_type": "code",
   "execution_count": 29,
   "metadata": {},
   "outputs": [
    {
     "data": {
      "text/html": [
       "<div>\n",
       "<style scoped>\n",
       "    .dataframe tbody tr th:only-of-type {\n",
       "        vertical-align: middle;\n",
       "    }\n",
       "\n",
       "    .dataframe tbody tr th {\n",
       "        vertical-align: top;\n",
       "    }\n",
       "\n",
       "    .dataframe thead th {\n",
       "        text-align: right;\n",
       "    }\n",
       "</style>\n",
       "<table border=\"1\" class=\"dataframe\">\n",
       "  <thead>\n",
       "    <tr style=\"text-align: right;\">\n",
       "      <th></th>\n",
       "      <th>x1</th>\n",
       "      <th>x2</th>\n",
       "      <th>x10</th>\n",
       "      <th>x11</th>\n",
       "      <th>x12</th>\n",
       "      <th>x13</th>\n",
       "      <th>x14</th>\n",
       "      <th>x24</th>\n",
       "      <th>x25</th>\n",
       "      <th>x26</th>\n",
       "      <th>...</th>\n",
       "      <th>x133</th>\n",
       "      <th>x134</th>\n",
       "      <th>x135</th>\n",
       "      <th>x136</th>\n",
       "      <th>x137</th>\n",
       "      <th>x138</th>\n",
       "      <th>x139</th>\n",
       "      <th>x143</th>\n",
       "      <th>x144</th>\n",
       "      <th>x145</th>\n",
       "    </tr>\n",
       "  </thead>\n",
       "  <tbody>\n",
       "    <tr>\n",
       "      <th>0</th>\n",
       "      <td>0</td>\n",
       "      <td>0</td>\n",
       "      <td>1</td>\n",
       "      <td>0</td>\n",
       "      <td>0</td>\n",
       "      <td>0</td>\n",
       "      <td>0</td>\n",
       "      <td>1</td>\n",
       "      <td>0</td>\n",
       "      <td>1</td>\n",
       "      <td>...</td>\n",
       "      <td>4</td>\n",
       "      <td>6</td>\n",
       "      <td>0.987596</td>\n",
       "      <td>0.0</td>\n",
       "      <td>0.81</td>\n",
       "      <td>25</td>\n",
       "      <td>148</td>\n",
       "      <td>2</td>\n",
       "      <td>0.375535</td>\n",
       "      <td>0.46461</td>\n",
       "    </tr>\n",
       "    <tr>\n",
       "      <th>1</th>\n",
       "      <td>1</td>\n",
       "      <td>1</td>\n",
       "      <td>1</td>\n",
       "      <td>1</td>\n",
       "      <td>1</td>\n",
       "      <td>1</td>\n",
       "      <td>1</td>\n",
       "      <td>1</td>\n",
       "      <td>1</td>\n",
       "      <td>1</td>\n",
       "      <td>...</td>\n",
       "      <td>3</td>\n",
       "      <td>6</td>\n",
       "      <td>0.968240</td>\n",
       "      <td>0.0</td>\n",
       "      <td>0.51</td>\n",
       "      <td>149</td>\n",
       "      <td>42</td>\n",
       "      <td>4</td>\n",
       "      <td>0.741682</td>\n",
       "      <td>0.59363</td>\n",
       "    </tr>\n",
       "  </tbody>\n",
       "</table>\n",
       "<p>2 rows × 136 columns</p>\n",
       "</div>"
      ],
      "text/plain": [
       "   x1  x2  x10  x11  x12  x13  x14  x24  x25  x26  ...  x133  x134      x135  \\\n",
       "0   0   0    1    0    0    0    0    1    0    1  ...     4     6  0.987596   \n",
       "1   1   1    1    1    1    1    1    1    1    1  ...     3     6  0.968240   \n",
       "\n",
       "   x136  x137  x138  x139  x143      x144     x145  \n",
       "0   0.0  0.81    25   148     2  0.375535  0.46461  \n",
       "1   0.0  0.51   149    42     4  0.741682  0.59363  \n",
       "\n",
       "[2 rows x 136 columns]"
      ]
     },
     "execution_count": 29,
     "metadata": {},
     "output_type": "execute_result"
    }
   ],
   "source": [
    "x.head(2)"
   ]
  },
  {
   "cell_type": "code",
   "execution_count": 30,
   "metadata": {},
   "outputs": [
    {
     "name": "stdout",
     "output_type": "stream",
     "text": [
      "x.shape: (9999, 136)\n",
      "y.shape: (9999,)\n"
     ]
    }
   ],
   "source": [
    "print(\"x.shape: {}\".format(x.shape))\n",
    "print(\"y.shape: {}\".format(y.shape))"
   ]
  },
  {
   "cell_type": "code",
   "execution_count": 31,
   "metadata": {},
   "outputs": [
    {
     "data": {
      "text/html": [
       "<div>\n",
       "<style scoped>\n",
       "    .dataframe tbody tr th:only-of-type {\n",
       "        vertical-align: middle;\n",
       "    }\n",
       "\n",
       "    .dataframe tbody tr th {\n",
       "        vertical-align: top;\n",
       "    }\n",
       "\n",
       "    .dataframe thead th {\n",
       "        text-align: right;\n",
       "    }\n",
       "</style>\n",
       "<table border=\"1\" class=\"dataframe\">\n",
       "  <thead>\n",
       "    <tr style=\"text-align: right;\">\n",
       "      <th></th>\n",
       "      <th>1698001</th>\n",
       "      <th>NO</th>\n",
       "      <th>NO.1</th>\n",
       "      <th>5KaYd5siHnBD/IjH8BF1fPz5zrCADHZia/Lrhlyxkvc=</th>\n",
       "      <th>FzMc/XY2ETaomhy8gPc9UL8LRkEnQA56+/wVF1fogk8=</th>\n",
       "      <th>1.41479820627803</th>\n",
       "      <th>0</th>\n",
       "      <th>1</th>\n",
       "      <th>0.1</th>\n",
       "      <th>0.202060221870048</th>\n",
       "      <th>...</th>\n",
       "      <th>0.30</th>\n",
       "      <th>1.8</th>\n",
       "      <th>1262.3</th>\n",
       "      <th>892.3</th>\n",
       "      <th>NO.36</th>\n",
       "      <th>NO.37</th>\n",
       "      <th>NO.38</th>\n",
       "      <th>0.31</th>\n",
       "      <th>0.0896860986547085</th>\n",
       "      <th>0.193343898573693.1</th>\n",
       "    </tr>\n",
       "  </thead>\n",
       "  <tbody>\n",
       "    <tr>\n",
       "      <th>0</th>\n",
       "      <td>1698002</td>\n",
       "      <td>NO</td>\n",
       "      <td>NO</td>\n",
       "      <td>9ACcuXc7MMm9V7jZSr3P3VxAKyMvLAtsdwPKwgncc+k=</td>\n",
       "      <td>WV5vAHFyqkeuyFB5KVNGFOBuwjkUGKYc8wh9QfpVzAA=</td>\n",
       "      <td>0.832679</td>\n",
       "      <td>0.049834</td>\n",
       "      <td>0.945938</td>\n",
       "      <td>0.317427</td>\n",
       "      <td>0.482021</td>\n",
       "      <td>...</td>\n",
       "      <td>1.0</td>\n",
       "      <td>0.866667</td>\n",
       "      <td>4672</td>\n",
       "      <td>3311</td>\n",
       "      <td>NO</td>\n",
       "      <td>NO</td>\n",
       "      <td>NO</td>\n",
       "      <td>5</td>\n",
       "      <td>0.945032</td>\n",
       "      <td>0.471318</td>\n",
       "    </tr>\n",
       "    <tr>\n",
       "      <th>1</th>\n",
       "      <td>1698003</td>\n",
       "      <td>NO</td>\n",
       "      <td>NO</td>\n",
       "      <td>MeBJ/ZzEIXfNKat4w1oeDxiMNKrAeY0PH41i00hpYDo=</td>\n",
       "      <td>tnLDGLnpYhzsik5+X+WPo4KQJoQA0TfWRlmEtQ3XNJQ=</td>\n",
       "      <td>1.415919</td>\n",
       "      <td>0.000000</td>\n",
       "      <td>1.000000</td>\n",
       "      <td>0.000000</td>\n",
       "      <td>0.703088</td>\n",
       "      <td>...</td>\n",
       "      <td>-1.0</td>\n",
       "      <td>1.000000</td>\n",
       "      <td>1263</td>\n",
       "      <td>892</td>\n",
       "      <td>NO</td>\n",
       "      <td>NO</td>\n",
       "      <td>NO</td>\n",
       "      <td>8</td>\n",
       "      <td>0.557175</td>\n",
       "      <td>0.693587</td>\n",
       "    </tr>\n",
       "  </tbody>\n",
       "</table>\n",
       "<p>2 rows × 146 columns</p>\n",
       "</div>"
      ],
      "text/plain": [
       "   1698001  NO NO.1  5KaYd5siHnBD/IjH8BF1fPz5zrCADHZia/Lrhlyxkvc=  \\\n",
       "0  1698002  NO   NO  9ACcuXc7MMm9V7jZSr3P3VxAKyMvLAtsdwPKwgncc+k=   \n",
       "1  1698003  NO   NO  MeBJ/ZzEIXfNKat4w1oeDxiMNKrAeY0PH41i00hpYDo=   \n",
       "\n",
       "   FzMc/XY2ETaomhy8gPc9UL8LRkEnQA56+/wVF1fogk8=  1.41479820627803         0  \\\n",
       "0  WV5vAHFyqkeuyFB5KVNGFOBuwjkUGKYc8wh9QfpVzAA=          0.832679  0.049834   \n",
       "1  tnLDGLnpYhzsik5+X+WPo4KQJoQA0TfWRlmEtQ3XNJQ=          1.415919  0.000000   \n",
       "\n",
       "          1       0.1  0.202060221870048  ... 0.30       1.8 1262.3 892.3  \\\n",
       "0  0.945938  0.317427           0.482021  ...  1.0  0.866667   4672  3311   \n",
       "1  1.000000  0.000000           0.703088  ... -1.0  1.000000   1263   892   \n",
       "\n",
       "  NO.36  NO.37  NO.38  0.31  0.0896860986547085  0.193343898573693.1  \n",
       "0    NO     NO     NO     5            0.945032             0.471318  \n",
       "1    NO     NO     NO     8            0.557175             0.693587  \n",
       "\n",
       "[2 rows x 146 columns]"
      ]
     },
     "execution_count": 31,
     "metadata": {},
     "output_type": "execute_result"
    }
   ],
   "source": [
    "test = pd.read_csv(\"test.csv\")\n",
    "test.head(2)"
   ]
  },
  {
   "cell_type": "code",
   "execution_count": 32,
   "metadata": {},
   "outputs": [
    {
     "name": "stdout",
     "output_type": "stream",
     "text": [
      "<class 'pandas.core.frame.DataFrame'>\n",
      "RangeIndex: 1999 entries, 0 to 1998\n",
      "Columns: 146 entries, 1698001 to 0.193343898573693.1\n",
      "dtypes: float64(55), int64(31), object(60)\n",
      "memory usage: 2.2+ MB\n"
     ]
    }
   ],
   "source": [
    "test.info()"
   ]
  },
  {
   "cell_type": "code",
   "execution_count": 33,
   "metadata": {},
   "outputs": [
    {
     "data": {
      "text/plain": [
       "(1999, 146)"
      ]
     },
     "execution_count": 33,
     "metadata": {},
     "output_type": "execute_result"
    }
   ],
   "source": [
    "test.shape"
   ]
  },
  {
   "cell_type": "markdown",
   "metadata": {},
   "source": [
    "# Hyperparameter for XGBoost Classifier using RandomizedSearchCV"
   ]
  },
  {
   "cell_type": "code",
   "execution_count": 34,
   "metadata": {},
   "outputs": [],
   "source": [
    "params={\n",
    " \"learning_rate\"    : [0.05, 0.10, 0.15, 0.20, 0.25, 0.30 ] ,\n",
    " \"max_depth\"        : [ 3, 4, 5, 6, 8, 10, 12, 15],\n",
    " \"min_child_weight\" : [ 1, 3, 5, 7 ],\n",
    " \"gamma\"            : [ 0.0, 0.1, 0.2 , 0.3, 0.4 ],\n",
    " \"colsample_bytree\" : [ 0.3, 0.4, 0.5 , 0.7 ]\n",
    "    \n",
    "}"
   ]
  },
  {
   "cell_type": "code",
   "execution_count": 35,
   "metadata": {},
   "outputs": [],
   "source": [
    "from sklearn.model_selection import RandomizedSearchCV\n",
    "import xgboost"
   ]
  },
  {
   "cell_type": "code",
   "execution_count": 36,
   "metadata": {},
   "outputs": [],
   "source": [
    "xgb=xgboost.XGBClassifier()"
   ]
  },
  {
   "cell_type": "code",
   "execution_count": 37,
   "metadata": {},
   "outputs": [],
   "source": [
    "random_search=RandomizedSearchCV(xgb,param_distributions=params,n_iter=5,scoring='accuracy',n_jobs=1,cv=5,verbose=3,refit=True)"
   ]
  },
  {
   "cell_type": "code",
   "execution_count": 38,
   "metadata": {},
   "outputs": [
    {
     "name": "stdout",
     "output_type": "stream",
     "text": [
      "Fitting 5 folds for each of 5 candidates, totalling 25 fits\n",
      "[CV] min_child_weight=1, max_depth=5, learning_rate=0.05, gamma=0.3, colsample_bytree=0.4 \n"
     ]
    },
    {
     "name": "stderr",
     "output_type": "stream",
     "text": [
      "C:\\Users\\Saurabh\\Anaconda3\\lib\\site-packages\\sklearn\\model_selection\\_split.py:652: Warning: The least populated class in y has only 2 members, which is too few. The minimum number of members in any class cannot be less than n_splits=5.\n",
      "  % (min_groups, self.n_splits)), Warning)\n",
      "[Parallel(n_jobs=1)]: Using backend SequentialBackend with 1 concurrent workers.\n",
      "C:\\Users\\Saurabh\\Anaconda3\\lib\\site-packages\\xgboost\\sklearn.py:1146: UserWarning: The use of label encoder in XGBClassifier is deprecated and will be removed in a future release. To remove this warning, do the following: 1) Pass option use_label_encoder=False when constructing XGBClassifier object; and 2) Encode your labels (y) as integers starting with 0, i.e. 0, 1, 2, ..., [num_class - 1].\n",
      "  warnings.warn(label_encoder_deprecation_msg, UserWarning)\n"
     ]
    },
    {
     "name": "stdout",
     "output_type": "stream",
     "text": [
      "[12:21:38] WARNING: C:/Users/Administrator/workspace/xgboost-win64_release_1.4.0/src/learner.cc:1095: Starting in XGBoost 1.3.0, the default evaluation metric used with the objective 'multi:softprob' was changed from 'merror' to 'mlogloss'. Explicitly set eval_metric if you'd like to restore the old behavior.\n",
      "[CV]  min_child_weight=1, max_depth=5, learning_rate=0.05, gamma=0.3, colsample_bytree=0.4, score=0.8901098901098901, total=  13.1s\n",
      "[CV] min_child_weight=1, max_depth=5, learning_rate=0.05, gamma=0.3, colsample_bytree=0.4 \n"
     ]
    },
    {
     "name": "stderr",
     "output_type": "stream",
     "text": [
      "[Parallel(n_jobs=1)]: Done   1 out of   1 | elapsed:   13.2s remaining:    0.0s\n",
      "C:\\Users\\Saurabh\\Anaconda3\\lib\\site-packages\\xgboost\\sklearn.py:1146: UserWarning: The use of label encoder in XGBClassifier is deprecated and will be removed in a future release. To remove this warning, do the following: 1) Pass option use_label_encoder=False when constructing XGBClassifier object; and 2) Encode your labels (y) as integers starting with 0, i.e. 0, 1, 2, ..., [num_class - 1].\n",
      "  warnings.warn(label_encoder_deprecation_msg, UserWarning)\n"
     ]
    },
    {
     "name": "stdout",
     "output_type": "stream",
     "text": [
      "[12:21:51] WARNING: C:/Users/Administrator/workspace/xgboost-win64_release_1.4.0/src/learner.cc:1095: Starting in XGBoost 1.3.0, the default evaluation metric used with the objective 'multi:softprob' was changed from 'merror' to 'mlogloss'. Explicitly set eval_metric if you'd like to restore the old behavior.\n",
      "[CV]  min_child_weight=1, max_depth=5, learning_rate=0.05, gamma=0.3, colsample_bytree=0.4, score=0.9340659340659341, total=  13.7s\n",
      "[CV] min_child_weight=1, max_depth=5, learning_rate=0.05, gamma=0.3, colsample_bytree=0.4 \n"
     ]
    },
    {
     "name": "stderr",
     "output_type": "stream",
     "text": [
      "[Parallel(n_jobs=1)]: Done   2 out of   2 | elapsed:   27.2s remaining:    0.0s\n",
      "C:\\Users\\Saurabh\\Anaconda3\\lib\\site-packages\\xgboost\\sklearn.py:1146: UserWarning: The use of label encoder in XGBClassifier is deprecated and will be removed in a future release. To remove this warning, do the following: 1) Pass option use_label_encoder=False when constructing XGBClassifier object; and 2) Encode your labels (y) as integers starting with 0, i.e. 0, 1, 2, ..., [num_class - 1].\n",
      "  warnings.warn(label_encoder_deprecation_msg, UserWarning)\n"
     ]
    },
    {
     "name": "stdout",
     "output_type": "stream",
     "text": [
      "[12:22:05] WARNING: C:/Users/Administrator/workspace/xgboost-win64_release_1.4.0/src/learner.cc:1095: Starting in XGBoost 1.3.0, the default evaluation metric used with the objective 'multi:softprob' was changed from 'merror' to 'mlogloss'. Explicitly set eval_metric if you'd like to restore the old behavior.\n",
      "[CV]  min_child_weight=1, max_depth=5, learning_rate=0.05, gamma=0.3, colsample_bytree=0.4, score=0.9370314842578711, total=  19.6s\n",
      "[CV] min_child_weight=1, max_depth=5, learning_rate=0.05, gamma=0.3, colsample_bytree=0.4 \n",
      "[12:22:25] WARNING: C:/Users/Administrator/workspace/xgboost-win64_release_1.4.0/src/learner.cc:1095: Starting in XGBoost 1.3.0, the default evaluation metric used with the objective 'multi:softprob' was changed from 'merror' to 'mlogloss'. Explicitly set eval_metric if you'd like to restore the old behavior.\n"
     ]
    },
    {
     "name": "stderr",
     "output_type": "stream",
     "text": [
      "C:\\Users\\Saurabh\\Anaconda3\\lib\\site-packages\\xgboost\\sklearn.py:1146: UserWarning: The use of label encoder in XGBClassifier is deprecated and will be removed in a future release. To remove this warning, do the following: 1) Pass option use_label_encoder=False when constructing XGBClassifier object; and 2) Encode your labels (y) as integers starting with 0, i.e. 0, 1, 2, ..., [num_class - 1].\n",
      "  warnings.warn(label_encoder_deprecation_msg, UserWarning)\n"
     ]
    },
    {
     "name": "stdout",
     "output_type": "stream",
     "text": [
      "[CV]  min_child_weight=1, max_depth=5, learning_rate=0.05, gamma=0.3, colsample_bytree=0.4, score=0.9414121181772659, total=  14.5s\n",
      "[CV] min_child_weight=1, max_depth=5, learning_rate=0.05, gamma=0.3, colsample_bytree=0.4 \n"
     ]
    },
    {
     "name": "stderr",
     "output_type": "stream",
     "text": [
      "C:\\Users\\Saurabh\\Anaconda3\\lib\\site-packages\\xgboost\\sklearn.py:1146: UserWarning: The use of label encoder in XGBClassifier is deprecated and will be removed in a future release. To remove this warning, do the following: 1) Pass option use_label_encoder=False when constructing XGBClassifier object; and 2) Encode your labels (y) as integers starting with 0, i.e. 0, 1, 2, ..., [num_class - 1].\n",
      "  warnings.warn(label_encoder_deprecation_msg, UserWarning)\n"
     ]
    },
    {
     "name": "stdout",
     "output_type": "stream",
     "text": [
      "[12:22:40] WARNING: C:/Users/Administrator/workspace/xgboost-win64_release_1.4.0/src/learner.cc:1095: Starting in XGBoost 1.3.0, the default evaluation metric used with the objective 'multi:softprob' was changed from 'merror' to 'mlogloss'. Explicitly set eval_metric if you'd like to restore the old behavior.\n",
      "[CV]  min_child_weight=1, max_depth=5, learning_rate=0.05, gamma=0.3, colsample_bytree=0.4, score=0.9303955933900852, total=  14.0s\n",
      "[CV] min_child_weight=1, max_depth=12, learning_rate=0.05, gamma=0.1, colsample_bytree=0.5 \n"
     ]
    },
    {
     "name": "stderr",
     "output_type": "stream",
     "text": [
      "C:\\Users\\Saurabh\\Anaconda3\\lib\\site-packages\\xgboost\\sklearn.py:1146: UserWarning: The use of label encoder in XGBClassifier is deprecated and will be removed in a future release. To remove this warning, do the following: 1) Pass option use_label_encoder=False when constructing XGBClassifier object; and 2) Encode your labels (y) as integers starting with 0, i.e. 0, 1, 2, ..., [num_class - 1].\n",
      "  warnings.warn(label_encoder_deprecation_msg, UserWarning)\n"
     ]
    },
    {
     "name": "stdout",
     "output_type": "stream",
     "text": [
      "[12:22:54] WARNING: C:/Users/Administrator/workspace/xgboost-win64_release_1.4.0/src/learner.cc:1095: Starting in XGBoost 1.3.0, the default evaluation metric used with the objective 'multi:softprob' was changed from 'merror' to 'mlogloss'. Explicitly set eval_metric if you'd like to restore the old behavior.\n",
      "[CV]  min_child_weight=1, max_depth=12, learning_rate=0.05, gamma=0.1, colsample_bytree=0.5, score=0.9275724275724275, total=  32.5s\n",
      "[CV] min_child_weight=1, max_depth=12, learning_rate=0.05, gamma=0.1, colsample_bytree=0.5 \n"
     ]
    },
    {
     "name": "stderr",
     "output_type": "stream",
     "text": [
      "C:\\Users\\Saurabh\\Anaconda3\\lib\\site-packages\\xgboost\\sklearn.py:1146: UserWarning: The use of label encoder in XGBClassifier is deprecated and will be removed in a future release. To remove this warning, do the following: 1) Pass option use_label_encoder=False when constructing XGBClassifier object; and 2) Encode your labels (y) as integers starting with 0, i.e. 0, 1, 2, ..., [num_class - 1].\n",
      "  warnings.warn(label_encoder_deprecation_msg, UserWarning)\n"
     ]
    },
    {
     "name": "stdout",
     "output_type": "stream",
     "text": [
      "[12:23:27] WARNING: C:/Users/Administrator/workspace/xgboost-win64_release_1.4.0/src/learner.cc:1095: Starting in XGBoost 1.3.0, the default evaluation metric used with the objective 'multi:softprob' was changed from 'merror' to 'mlogloss'. Explicitly set eval_metric if you'd like to restore the old behavior.\n",
      "[CV]  min_child_weight=1, max_depth=12, learning_rate=0.05, gamma=0.1, colsample_bytree=0.5, score=0.9410589410589411, total=  25.6s\n",
      "[CV] min_child_weight=1, max_depth=12, learning_rate=0.05, gamma=0.1, colsample_bytree=0.5 \n"
     ]
    },
    {
     "name": "stderr",
     "output_type": "stream",
     "text": [
      "C:\\Users\\Saurabh\\Anaconda3\\lib\\site-packages\\xgboost\\sklearn.py:1146: UserWarning: The use of label encoder in XGBClassifier is deprecated and will be removed in a future release. To remove this warning, do the following: 1) Pass option use_label_encoder=False when constructing XGBClassifier object; and 2) Encode your labels (y) as integers starting with 0, i.e. 0, 1, 2, ..., [num_class - 1].\n",
      "  warnings.warn(label_encoder_deprecation_msg, UserWarning)\n"
     ]
    },
    {
     "name": "stdout",
     "output_type": "stream",
     "text": [
      "[12:23:53] WARNING: C:/Users/Administrator/workspace/xgboost-win64_release_1.4.0/src/learner.cc:1095: Starting in XGBoost 1.3.0, the default evaluation metric used with the objective 'multi:softprob' was changed from 'merror' to 'mlogloss'. Explicitly set eval_metric if you'd like to restore the old behavior.\n",
      "[CV]  min_child_weight=1, max_depth=12, learning_rate=0.05, gamma=0.1, colsample_bytree=0.5, score=0.9420289855072463, total=  28.5s\n",
      "[CV] min_child_weight=1, max_depth=12, learning_rate=0.05, gamma=0.1, colsample_bytree=0.5 \n"
     ]
    },
    {
     "name": "stderr",
     "output_type": "stream",
     "text": [
      "C:\\Users\\Saurabh\\Anaconda3\\lib\\site-packages\\xgboost\\sklearn.py:1146: UserWarning: The use of label encoder in XGBClassifier is deprecated and will be removed in a future release. To remove this warning, do the following: 1) Pass option use_label_encoder=False when constructing XGBClassifier object; and 2) Encode your labels (y) as integers starting with 0, i.e. 0, 1, 2, ..., [num_class - 1].\n",
      "  warnings.warn(label_encoder_deprecation_msg, UserWarning)\n"
     ]
    },
    {
     "name": "stdout",
     "output_type": "stream",
     "text": [
      "[12:24:21] WARNING: C:/Users/Administrator/workspace/xgboost-win64_release_1.4.0/src/learner.cc:1095: Starting in XGBoost 1.3.0, the default evaluation metric used with the objective 'multi:softprob' was changed from 'merror' to 'mlogloss'. Explicitly set eval_metric if you'd like to restore the old behavior.\n",
      "[CV]  min_child_weight=1, max_depth=12, learning_rate=0.05, gamma=0.1, colsample_bytree=0.5, score=0.9469203805708563, total=  25.4s\n",
      "[CV] min_child_weight=1, max_depth=12, learning_rate=0.05, gamma=0.1, colsample_bytree=0.5 \n"
     ]
    },
    {
     "name": "stderr",
     "output_type": "stream",
     "text": [
      "C:\\Users\\Saurabh\\Anaconda3\\lib\\site-packages\\xgboost\\sklearn.py:1146: UserWarning: The use of label encoder in XGBClassifier is deprecated and will be removed in a future release. To remove this warning, do the following: 1) Pass option use_label_encoder=False when constructing XGBClassifier object; and 2) Encode your labels (y) as integers starting with 0, i.e. 0, 1, 2, ..., [num_class - 1].\n",
      "  warnings.warn(label_encoder_deprecation_msg, UserWarning)\n"
     ]
    },
    {
     "name": "stdout",
     "output_type": "stream",
     "text": [
      "[12:24:47] WARNING: C:/Users/Administrator/workspace/xgboost-win64_release_1.4.0/src/learner.cc:1095: Starting in XGBoost 1.3.0, the default evaluation metric used with the objective 'multi:softprob' was changed from 'merror' to 'mlogloss'. Explicitly set eval_metric if you'd like to restore the old behavior.\n",
      "[CV]  min_child_weight=1, max_depth=12, learning_rate=0.05, gamma=0.1, colsample_bytree=0.5, score=0.9354031046569855, total=  33.9s\n",
      "[CV] min_child_weight=1, max_depth=6, learning_rate=0.2, gamma=0.2, colsample_bytree=0.7 \n"
     ]
    },
    {
     "name": "stderr",
     "output_type": "stream",
     "text": [
      "C:\\Users\\Saurabh\\Anaconda3\\lib\\site-packages\\xgboost\\sklearn.py:1146: UserWarning: The use of label encoder in XGBClassifier is deprecated and will be removed in a future release. To remove this warning, do the following: 1) Pass option use_label_encoder=False when constructing XGBClassifier object; and 2) Encode your labels (y) as integers starting with 0, i.e. 0, 1, 2, ..., [num_class - 1].\n",
      "  warnings.warn(label_encoder_deprecation_msg, UserWarning)\n"
     ]
    },
    {
     "name": "stdout",
     "output_type": "stream",
     "text": [
      "[12:25:21] WARNING: C:/Users/Administrator/workspace/xgboost-win64_release_1.4.0/src/learner.cc:1095: Starting in XGBoost 1.3.0, the default evaluation metric used with the objective 'multi:softprob' was changed from 'merror' to 'mlogloss'. Explicitly set eval_metric if you'd like to restore the old behavior.\n",
      "[CV]  min_child_weight=1, max_depth=6, learning_rate=0.2, gamma=0.2, colsample_bytree=0.7, score=0.8756243756243757, total=  26.5s\n",
      "[CV] min_child_weight=1, max_depth=6, learning_rate=0.2, gamma=0.2, colsample_bytree=0.7 \n"
     ]
    },
    {
     "name": "stderr",
     "output_type": "stream",
     "text": [
      "C:\\Users\\Saurabh\\Anaconda3\\lib\\site-packages\\xgboost\\sklearn.py:1146: UserWarning: The use of label encoder in XGBClassifier is deprecated and will be removed in a future release. To remove this warning, do the following: 1) Pass option use_label_encoder=False when constructing XGBClassifier object; and 2) Encode your labels (y) as integers starting with 0, i.e. 0, 1, 2, ..., [num_class - 1].\n",
      "  warnings.warn(label_encoder_deprecation_msg, UserWarning)\n"
     ]
    },
    {
     "name": "stdout",
     "output_type": "stream",
     "text": [
      "[12:25:48] WARNING: C:/Users/Administrator/workspace/xgboost-win64_release_1.4.0/src/learner.cc:1095: Starting in XGBoost 1.3.0, the default evaluation metric used with the objective 'multi:softprob' was changed from 'merror' to 'mlogloss'. Explicitly set eval_metric if you'd like to restore the old behavior.\n",
      "[CV]  min_child_weight=1, max_depth=6, learning_rate=0.2, gamma=0.2, colsample_bytree=0.7, score=0.9370629370629371, total=  22.8s\n",
      "[CV] min_child_weight=1, max_depth=6, learning_rate=0.2, gamma=0.2, colsample_bytree=0.7 \n"
     ]
    },
    {
     "name": "stderr",
     "output_type": "stream",
     "text": [
      "C:\\Users\\Saurabh\\Anaconda3\\lib\\site-packages\\xgboost\\sklearn.py:1146: UserWarning: The use of label encoder in XGBClassifier is deprecated and will be removed in a future release. To remove this warning, do the following: 1) Pass option use_label_encoder=False when constructing XGBClassifier object; and 2) Encode your labels (y) as integers starting with 0, i.e. 0, 1, 2, ..., [num_class - 1].\n",
      "  warnings.warn(label_encoder_deprecation_msg, UserWarning)\n"
     ]
    },
    {
     "name": "stdout",
     "output_type": "stream",
     "text": [
      "[12:26:11] WARNING: C:/Users/Administrator/workspace/xgboost-win64_release_1.4.0/src/learner.cc:1095: Starting in XGBoost 1.3.0, the default evaluation metric used with the objective 'multi:softprob' was changed from 'merror' to 'mlogloss'. Explicitly set eval_metric if you'd like to restore the old behavior.\n",
      "[CV]  min_child_weight=1, max_depth=6, learning_rate=0.2, gamma=0.2, colsample_bytree=0.7, score=0.9375312343828086, total=  27.6s\n",
      "[CV] min_child_weight=1, max_depth=6, learning_rate=0.2, gamma=0.2, colsample_bytree=0.7 \n"
     ]
    },
    {
     "name": "stderr",
     "output_type": "stream",
     "text": [
      "C:\\Users\\Saurabh\\Anaconda3\\lib\\site-packages\\xgboost\\sklearn.py:1146: UserWarning: The use of label encoder in XGBClassifier is deprecated and will be removed in a future release. To remove this warning, do the following: 1) Pass option use_label_encoder=False when constructing XGBClassifier object; and 2) Encode your labels (y) as integers starting with 0, i.e. 0, 1, 2, ..., [num_class - 1].\n",
      "  warnings.warn(label_encoder_deprecation_msg, UserWarning)\n"
     ]
    },
    {
     "name": "stdout",
     "output_type": "stream",
     "text": [
      "[12:26:39] WARNING: C:/Users/Administrator/workspace/xgboost-win64_release_1.4.0/src/learner.cc:1095: Starting in XGBoost 1.3.0, the default evaluation metric used with the objective 'multi:softprob' was changed from 'merror' to 'mlogloss'. Explicitly set eval_metric if you'd like to restore the old behavior.\n",
      "[CV]  min_child_weight=1, max_depth=6, learning_rate=0.2, gamma=0.2, colsample_bytree=0.7, score=0.9494241362043064, total=  27.6s\n",
      "[CV] min_child_weight=1, max_depth=6, learning_rate=0.2, gamma=0.2, colsample_bytree=0.7 \n"
     ]
    },
    {
     "name": "stderr",
     "output_type": "stream",
     "text": [
      "C:\\Users\\Saurabh\\Anaconda3\\lib\\site-packages\\xgboost\\sklearn.py:1146: UserWarning: The use of label encoder in XGBClassifier is deprecated and will be removed in a future release. To remove this warning, do the following: 1) Pass option use_label_encoder=False when constructing XGBClassifier object; and 2) Encode your labels (y) as integers starting with 0, i.e. 0, 1, 2, ..., [num_class - 1].\n",
      "  warnings.warn(label_encoder_deprecation_msg, UserWarning)\n"
     ]
    },
    {
     "name": "stdout",
     "output_type": "stream",
     "text": [
      "[12:27:06] WARNING: C:/Users/Administrator/workspace/xgboost-win64_release_1.4.0/src/learner.cc:1095: Starting in XGBoost 1.3.0, the default evaluation metric used with the objective 'multi:softprob' was changed from 'merror' to 'mlogloss'. Explicitly set eval_metric if you'd like to restore the old behavior.\n",
      "[CV]  min_child_weight=1, max_depth=6, learning_rate=0.2, gamma=0.2, colsample_bytree=0.7, score=0.9183775663495243, total=  21.7s\n",
      "[CV] min_child_weight=7, max_depth=15, learning_rate=0.25, gamma=0.2, colsample_bytree=0.4 \n"
     ]
    },
    {
     "name": "stderr",
     "output_type": "stream",
     "text": [
      "C:\\Users\\Saurabh\\Anaconda3\\lib\\site-packages\\xgboost\\sklearn.py:1146: UserWarning: The use of label encoder in XGBClassifier is deprecated and will be removed in a future release. To remove this warning, do the following: 1) Pass option use_label_encoder=False when constructing XGBClassifier object; and 2) Encode your labels (y) as integers starting with 0, i.e. 0, 1, 2, ..., [num_class - 1].\n",
      "  warnings.warn(label_encoder_deprecation_msg, UserWarning)\n"
     ]
    },
    {
     "name": "stdout",
     "output_type": "stream",
     "text": [
      "[12:27:28] WARNING: C:/Users/Administrator/workspace/xgboost-win64_release_1.4.0/src/learner.cc:1095: Starting in XGBoost 1.3.0, the default evaluation metric used with the objective 'multi:softprob' was changed from 'merror' to 'mlogloss'. Explicitly set eval_metric if you'd like to restore the old behavior.\n",
      "[CV]  min_child_weight=7, max_depth=15, learning_rate=0.25, gamma=0.2, colsample_bytree=0.4, score=0.9325674325674326, total=  14.5s\n",
      "[CV] min_child_weight=7, max_depth=15, learning_rate=0.25, gamma=0.2, colsample_bytree=0.4 \n"
     ]
    },
    {
     "name": "stderr",
     "output_type": "stream",
     "text": [
      "C:\\Users\\Saurabh\\Anaconda3\\lib\\site-packages\\xgboost\\sklearn.py:1146: UserWarning: The use of label encoder in XGBClassifier is deprecated and will be removed in a future release. To remove this warning, do the following: 1) Pass option use_label_encoder=False when constructing XGBClassifier object; and 2) Encode your labels (y) as integers starting with 0, i.e. 0, 1, 2, ..., [num_class - 1].\n",
      "  warnings.warn(label_encoder_deprecation_msg, UserWarning)\n"
     ]
    },
    {
     "name": "stdout",
     "output_type": "stream",
     "text": [
      "[12:27:43] WARNING: C:/Users/Administrator/workspace/xgboost-win64_release_1.4.0/src/learner.cc:1095: Starting in XGBoost 1.3.0, the default evaluation metric used with the objective 'multi:softprob' was changed from 'merror' to 'mlogloss'. Explicitly set eval_metric if you'd like to restore the old behavior.\n",
      "[CV]  min_child_weight=7, max_depth=15, learning_rate=0.25, gamma=0.2, colsample_bytree=0.4, score=0.9365634365634365, total=  17.7s\n",
      "[CV] min_child_weight=7, max_depth=15, learning_rate=0.25, gamma=0.2, colsample_bytree=0.4 \n"
     ]
    },
    {
     "name": "stderr",
     "output_type": "stream",
     "text": [
      "C:\\Users\\Saurabh\\Anaconda3\\lib\\site-packages\\xgboost\\sklearn.py:1146: UserWarning: The use of label encoder in XGBClassifier is deprecated and will be removed in a future release. To remove this warning, do the following: 1) Pass option use_label_encoder=False when constructing XGBClassifier object; and 2) Encode your labels (y) as integers starting with 0, i.e. 0, 1, 2, ..., [num_class - 1].\n",
      "  warnings.warn(label_encoder_deprecation_msg, UserWarning)\n"
     ]
    },
    {
     "name": "stdout",
     "output_type": "stream",
     "text": [
      "[12:28:01] WARNING: C:/Users/Administrator/workspace/xgboost-win64_release_1.4.0/src/learner.cc:1095: Starting in XGBoost 1.3.0, the default evaluation metric used with the objective 'multi:softprob' was changed from 'merror' to 'mlogloss'. Explicitly set eval_metric if you'd like to restore the old behavior.\n",
      "[CV]  min_child_weight=7, max_depth=15, learning_rate=0.25, gamma=0.2, colsample_bytree=0.4, score=0.9400299850074962, total=  14.3s\n",
      "[CV] min_child_weight=7, max_depth=15, learning_rate=0.25, gamma=0.2, colsample_bytree=0.4 \n"
     ]
    },
    {
     "name": "stderr",
     "output_type": "stream",
     "text": [
      "C:\\Users\\Saurabh\\Anaconda3\\lib\\site-packages\\xgboost\\sklearn.py:1146: UserWarning: The use of label encoder in XGBClassifier is deprecated and will be removed in a future release. To remove this warning, do the following: 1) Pass option use_label_encoder=False when constructing XGBClassifier object; and 2) Encode your labels (y) as integers starting with 0, i.e. 0, 1, 2, ..., [num_class - 1].\n",
      "  warnings.warn(label_encoder_deprecation_msg, UserWarning)\n"
     ]
    },
    {
     "name": "stdout",
     "output_type": "stream",
     "text": [
      "[12:28:16] WARNING: C:/Users/Administrator/workspace/xgboost-win64_release_1.4.0/src/learner.cc:1095: Starting in XGBoost 1.3.0, the default evaluation metric used with the objective 'multi:softprob' was changed from 'merror' to 'mlogloss'. Explicitly set eval_metric if you'd like to restore the old behavior.\n",
      "[CV]  min_child_weight=7, max_depth=15, learning_rate=0.25, gamma=0.2, colsample_bytree=0.4, score=0.9439158738107161, total=  15.9s\n",
      "[CV] min_child_weight=7, max_depth=15, learning_rate=0.25, gamma=0.2, colsample_bytree=0.4 \n"
     ]
    },
    {
     "name": "stderr",
     "output_type": "stream",
     "text": [
      "C:\\Users\\Saurabh\\Anaconda3\\lib\\site-packages\\xgboost\\sklearn.py:1146: UserWarning: The use of label encoder in XGBClassifier is deprecated and will be removed in a future release. To remove this warning, do the following: 1) Pass option use_label_encoder=False when constructing XGBClassifier object; and 2) Encode your labels (y) as integers starting with 0, i.e. 0, 1, 2, ..., [num_class - 1].\n",
      "  warnings.warn(label_encoder_deprecation_msg, UserWarning)\n"
     ]
    },
    {
     "name": "stdout",
     "output_type": "stream",
     "text": [
      "[12:28:32] WARNING: C:/Users/Administrator/workspace/xgboost-win64_release_1.4.0/src/learner.cc:1095: Starting in XGBoost 1.3.0, the default evaluation metric used with the objective 'multi:softprob' was changed from 'merror' to 'mlogloss'. Explicitly set eval_metric if you'd like to restore the old behavior.\n",
      "[CV]  min_child_weight=7, max_depth=15, learning_rate=0.25, gamma=0.2, colsample_bytree=0.4, score=0.9369053580370555, total=  17.2s\n",
      "[CV] min_child_weight=5, max_depth=12, learning_rate=0.05, gamma=0.1, colsample_bytree=0.4 \n"
     ]
    },
    {
     "name": "stderr",
     "output_type": "stream",
     "text": [
      "C:\\Users\\Saurabh\\Anaconda3\\lib\\site-packages\\xgboost\\sklearn.py:1146: UserWarning: The use of label encoder in XGBClassifier is deprecated and will be removed in a future release. To remove this warning, do the following: 1) Pass option use_label_encoder=False when constructing XGBClassifier object; and 2) Encode your labels (y) as integers starting with 0, i.e. 0, 1, 2, ..., [num_class - 1].\n",
      "  warnings.warn(label_encoder_deprecation_msg, UserWarning)\n"
     ]
    },
    {
     "name": "stdout",
     "output_type": "stream",
     "text": [
      "[12:28:49] WARNING: C:/Users/Administrator/workspace/xgboost-win64_release_1.4.0/src/learner.cc:1095: Starting in XGBoost 1.3.0, the default evaluation metric used with the objective 'multi:softprob' was changed from 'merror' to 'mlogloss'. Explicitly set eval_metric if you'd like to restore the old behavior.\n",
      "[CV]  min_child_weight=5, max_depth=12, learning_rate=0.05, gamma=0.1, colsample_bytree=0.4, score=0.9330669330669331, total=  21.0s\n",
      "[CV] min_child_weight=5, max_depth=12, learning_rate=0.05, gamma=0.1, colsample_bytree=0.4 \n"
     ]
    },
    {
     "name": "stderr",
     "output_type": "stream",
     "text": [
      "C:\\Users\\Saurabh\\Anaconda3\\lib\\site-packages\\xgboost\\sklearn.py:1146: UserWarning: The use of label encoder in XGBClassifier is deprecated and will be removed in a future release. To remove this warning, do the following: 1) Pass option use_label_encoder=False when constructing XGBClassifier object; and 2) Encode your labels (y) as integers starting with 0, i.e. 0, 1, 2, ..., [num_class - 1].\n",
      "  warnings.warn(label_encoder_deprecation_msg, UserWarning)\n"
     ]
    },
    {
     "name": "stdout",
     "output_type": "stream",
     "text": [
      "[12:29:10] WARNING: C:/Users/Administrator/workspace/xgboost-win64_release_1.4.0/src/learner.cc:1095: Starting in XGBoost 1.3.0, the default evaluation metric used with the objective 'multi:softprob' was changed from 'merror' to 'mlogloss'. Explicitly set eval_metric if you'd like to restore the old behavior.\n",
      "[CV]  min_child_weight=5, max_depth=12, learning_rate=0.05, gamma=0.1, colsample_bytree=0.4, score=0.9375624375624375, total=  19.2s\n",
      "[CV] min_child_weight=5, max_depth=12, learning_rate=0.05, gamma=0.1, colsample_bytree=0.4 \n"
     ]
    },
    {
     "name": "stderr",
     "output_type": "stream",
     "text": [
      "C:\\Users\\Saurabh\\Anaconda3\\lib\\site-packages\\xgboost\\sklearn.py:1146: UserWarning: The use of label encoder in XGBClassifier is deprecated and will be removed in a future release. To remove this warning, do the following: 1) Pass option use_label_encoder=False when constructing XGBClassifier object; and 2) Encode your labels (y) as integers starting with 0, i.e. 0, 1, 2, ..., [num_class - 1].\n",
      "  warnings.warn(label_encoder_deprecation_msg, UserWarning)\n"
     ]
    },
    {
     "name": "stdout",
     "output_type": "stream",
     "text": [
      "[12:29:30] WARNING: C:/Users/Administrator/workspace/xgboost-win64_release_1.4.0/src/learner.cc:1095: Starting in XGBoost 1.3.0, the default evaluation metric used with the objective 'multi:softprob' was changed from 'merror' to 'mlogloss'. Explicitly set eval_metric if you'd like to restore the old behavior.\n",
      "[CV]  min_child_weight=5, max_depth=12, learning_rate=0.05, gamma=0.1, colsample_bytree=0.4, score=0.9385307346326837, total=  18.9s\n",
      "[CV] min_child_weight=5, max_depth=12, learning_rate=0.05, gamma=0.1, colsample_bytree=0.4 \n"
     ]
    },
    {
     "name": "stderr",
     "output_type": "stream",
     "text": [
      "C:\\Users\\Saurabh\\Anaconda3\\lib\\site-packages\\xgboost\\sklearn.py:1146: UserWarning: The use of label encoder in XGBClassifier is deprecated and will be removed in a future release. To remove this warning, do the following: 1) Pass option use_label_encoder=False when constructing XGBClassifier object; and 2) Encode your labels (y) as integers starting with 0, i.e. 0, 1, 2, ..., [num_class - 1].\n",
      "  warnings.warn(label_encoder_deprecation_msg, UserWarning)\n"
     ]
    },
    {
     "name": "stdout",
     "output_type": "stream",
     "text": [
      "[12:29:49] WARNING: C:/Users/Administrator/workspace/xgboost-win64_release_1.4.0/src/learner.cc:1095: Starting in XGBoost 1.3.0, the default evaluation metric used with the objective 'multi:softprob' was changed from 'merror' to 'mlogloss'. Explicitly set eval_metric if you'd like to restore the old behavior.\n",
      "[CV]  min_child_weight=5, max_depth=12, learning_rate=0.05, gamma=0.1, colsample_bytree=0.4, score=0.9439158738107161, total=  19.6s\n",
      "[CV] min_child_weight=5, max_depth=12, learning_rate=0.05, gamma=0.1, colsample_bytree=0.4 \n"
     ]
    },
    {
     "name": "stderr",
     "output_type": "stream",
     "text": [
      "C:\\Users\\Saurabh\\Anaconda3\\lib\\site-packages\\xgboost\\sklearn.py:1146: UserWarning: The use of label encoder in XGBClassifier is deprecated and will be removed in a future release. To remove this warning, do the following: 1) Pass option use_label_encoder=False when constructing XGBClassifier object; and 2) Encode your labels (y) as integers starting with 0, i.e. 0, 1, 2, ..., [num_class - 1].\n",
      "  warnings.warn(label_encoder_deprecation_msg, UserWarning)\n"
     ]
    },
    {
     "name": "stdout",
     "output_type": "stream",
     "text": [
      "[12:30:09] WARNING: C:/Users/Administrator/workspace/xgboost-win64_release_1.4.0/src/learner.cc:1095: Starting in XGBoost 1.3.0, the default evaluation metric used with the objective 'multi:softprob' was changed from 'merror' to 'mlogloss'. Explicitly set eval_metric if you'd like to restore the old behavior.\n",
      "[CV]  min_child_weight=5, max_depth=12, learning_rate=0.05, gamma=0.1, colsample_bytree=0.4, score=0.9359038557836755, total=  25.2s\n"
     ]
    },
    {
     "name": "stderr",
     "output_type": "stream",
     "text": [
      "[Parallel(n_jobs=1)]: Done  25 out of  25 | elapsed:  8.9min finished\n",
      "C:\\Users\\Saurabh\\Anaconda3\\lib\\site-packages\\xgboost\\sklearn.py:1146: UserWarning: The use of label encoder in XGBClassifier is deprecated and will be removed in a future release. To remove this warning, do the following: 1) Pass option use_label_encoder=False when constructing XGBClassifier object; and 2) Encode your labels (y) as integers starting with 0, i.e. 0, 1, 2, ..., [num_class - 1].\n",
      "  warnings.warn(label_encoder_deprecation_msg, UserWarning)\n"
     ]
    },
    {
     "name": "stdout",
     "output_type": "stream",
     "text": [
      "[12:30:34] WARNING: C:/Users/Administrator/workspace/xgboost-win64_release_1.4.0/src/learner.cc:1095: Starting in XGBoost 1.3.0, the default evaluation metric used with the objective 'multi:softprob' was changed from 'merror' to 'mlogloss'. Explicitly set eval_metric if you'd like to restore the old behavior.\n"
     ]
    },
    {
     "data": {
      "text/plain": [
       "RandomizedSearchCV(cv=5, error_score='raise-deprecating',\n",
       "          estimator=XGBClassifier(base_score=None, booster=None, colsample_bylevel=None,\n",
       "       colsample_bynode=None, colsample_bytree=None, gamma=None,\n",
       "       gpu_id=None, importance_type='gain', interaction_constraints=None,\n",
       "       learning_rate=None, max_delta_step=None, max_depth=None,\n",
       "       min_child_w...e,\n",
       "       tree_method=None, use_label_encoder=True, validate_parameters=None,\n",
       "       verbosity=None),\n",
       "          fit_params=None, iid='warn', n_iter=5, n_jobs=1,\n",
       "          param_distributions={'learning_rate': [0.05, 0.1, 0.15, 0.2, 0.25, 0.3], 'max_depth': [3, 4, 5, 6, 8, 10, 12, 15], 'min_child_weight': [1, 3, 5, 7], 'gamma': [0.0, 0.1, 0.2, 0.3, 0.4], 'colsample_bytree': [0.3, 0.4, 0.5, 0.7]},\n",
       "          pre_dispatch='2*n_jobs', random_state=None, refit=True,\n",
       "          return_train_score='warn', scoring='accuracy', verbose=3)"
      ]
     },
     "execution_count": 38,
     "metadata": {},
     "output_type": "execute_result"
    }
   ],
   "source": [
    "random_search.fit(x,y)"
   ]
  },
  {
   "cell_type": "code",
   "execution_count": 39,
   "metadata": {},
   "outputs": [
    {
     "data": {
      "text/plain": [
       "XGBClassifier(base_score=0.5, booster='gbtree', colsample_bylevel=1,\n",
       "       colsample_bynode=1, colsample_bytree=0.5, gamma=0.1, gpu_id=-1,\n",
       "       importance_type='gain', interaction_constraints='',\n",
       "       learning_rate=0.05, max_delta_step=0, max_depth=12,\n",
       "       min_child_weight=1, missing=nan, monotone_constraints='()',\n",
       "       n_estimators=100, n_jobs=4, num_parallel_tree=1,\n",
       "       objective='multi:softprob', random_state=0, reg_alpha=0,\n",
       "       reg_lambda=1, scale_pos_weight=None, subsample=1,\n",
       "       tree_method='exact', use_label_encoder=True, validate_parameters=1,\n",
       "       verbosity=None)"
      ]
     },
     "execution_count": 39,
     "metadata": {},
     "output_type": "execute_result"
    }
   ],
   "source": [
    "random_search.best_estimator_"
   ]
  },
  {
   "cell_type": "code",
   "execution_count": 40,
   "metadata": {},
   "outputs": [
    {
     "data": {
      "text/plain": [
       "{'min_child_weight': 1,\n",
       " 'max_depth': 12,\n",
       " 'learning_rate': 0.05,\n",
       " 'gamma': 0.1,\n",
       " 'colsample_bytree': 0.5}"
      ]
     },
     "execution_count": 40,
     "metadata": {},
     "output_type": "execute_result"
    }
   ],
   "source": [
    "random_search.best_params_"
   ]
  },
  {
   "cell_type": "code",
   "execution_count": 41,
   "metadata": {},
   "outputs": [],
   "source": [
    "cgb=xgboost.XGBClassifier(base_score=0.5, booster='gbtree', colsample_bylevel=1,\n",
    "       colsample_bytree=0.5, gamma=0.4, learning_rate=0.1,\n",
    "       max_delta_step=0, max_depth=6, min_child_weight=7,\n",
    "       n_estimators=100, n_jobs=1, nthread=None,\n",
    "       objective='binary:logistic', random_state=0, reg_alpha=0,\n",
    "       reg_lambda=1, scale_pos_weight=1, seed=None, silent=True,\n",
    "       subsample=1)"
   ]
  },
  {
   "cell_type": "markdown",
   "metadata": {},
   "source": [
    "# Checking accuracy using Cross Validation"
   ]
  },
  {
   "cell_type": "code",
   "execution_count": 42,
   "metadata": {},
   "outputs": [
    {
     "name": "stderr",
     "output_type": "stream",
     "text": [
      "C:\\Users\\Saurabh\\Anaconda3\\lib\\site-packages\\sklearn\\model_selection\\_split.py:652: Warning: The least populated class in y has only 2 members, which is too few. The minimum number of members in any class cannot be less than n_splits=10.\n",
      "  % (min_groups, self.n_splits)), Warning)\n",
      "C:\\Users\\Saurabh\\Anaconda3\\lib\\site-packages\\xgboost\\sklearn.py:1146: UserWarning: The use of label encoder in XGBClassifier is deprecated and will be removed in a future release. To remove this warning, do the following: 1) Pass option use_label_encoder=False when constructing XGBClassifier object; and 2) Encode your labels (y) as integers starting with 0, i.e. 0, 1, 2, ..., [num_class - 1].\n",
      "  warnings.warn(label_encoder_deprecation_msg, UserWarning)\n"
     ]
    },
    {
     "name": "stdout",
     "output_type": "stream",
     "text": [
      "[12:31:08] WARNING: C:/Users/Administrator/workspace/xgboost-win64_release_1.4.0/src/learner.cc:1095: Starting in XGBoost 1.3.0, the default evaluation metric used with the objective 'multi:softprob' was changed from 'merror' to 'mlogloss'. Explicitly set eval_metric if you'd like to restore the old behavior.\n"
     ]
    },
    {
     "name": "stderr",
     "output_type": "stream",
     "text": [
      "C:\\Users\\Saurabh\\Anaconda3\\lib\\site-packages\\xgboost\\sklearn.py:1146: UserWarning: The use of label encoder in XGBClassifier is deprecated and will be removed in a future release. To remove this warning, do the following: 1) Pass option use_label_encoder=False when constructing XGBClassifier object; and 2) Encode your labels (y) as integers starting with 0, i.e. 0, 1, 2, ..., [num_class - 1].\n",
      "  warnings.warn(label_encoder_deprecation_msg, UserWarning)\n"
     ]
    },
    {
     "name": "stdout",
     "output_type": "stream",
     "text": [
      "[12:31:40] WARNING: C:/Users/Administrator/workspace/xgboost-win64_release_1.4.0/src/learner.cc:1095: Starting in XGBoost 1.3.0, the default evaluation metric used with the objective 'multi:softprob' was changed from 'merror' to 'mlogloss'. Explicitly set eval_metric if you'd like to restore the old behavior.\n"
     ]
    },
    {
     "name": "stderr",
     "output_type": "stream",
     "text": [
      "C:\\Users\\Saurabh\\Anaconda3\\lib\\site-packages\\xgboost\\sklearn.py:1146: UserWarning: The use of label encoder in XGBClassifier is deprecated and will be removed in a future release. To remove this warning, do the following: 1) Pass option use_label_encoder=False when constructing XGBClassifier object; and 2) Encode your labels (y) as integers starting with 0, i.e. 0, 1, 2, ..., [num_class - 1].\n",
      "  warnings.warn(label_encoder_deprecation_msg, UserWarning)\n"
     ]
    },
    {
     "name": "stdout",
     "output_type": "stream",
     "text": [
      "[12:32:13] WARNING: C:/Users/Administrator/workspace/xgboost-win64_release_1.4.0/src/learner.cc:1095: Starting in XGBoost 1.3.0, the default evaluation metric used with the objective 'multi:softprob' was changed from 'merror' to 'mlogloss'. Explicitly set eval_metric if you'd like to restore the old behavior.\n"
     ]
    },
    {
     "name": "stderr",
     "output_type": "stream",
     "text": [
      "C:\\Users\\Saurabh\\Anaconda3\\lib\\site-packages\\xgboost\\sklearn.py:1146: UserWarning: The use of label encoder in XGBClassifier is deprecated and will be removed in a future release. To remove this warning, do the following: 1) Pass option use_label_encoder=False when constructing XGBClassifier object; and 2) Encode your labels (y) as integers starting with 0, i.e. 0, 1, 2, ..., [num_class - 1].\n",
      "  warnings.warn(label_encoder_deprecation_msg, UserWarning)\n"
     ]
    },
    {
     "name": "stdout",
     "output_type": "stream",
     "text": [
      "[12:32:44] WARNING: C:/Users/Administrator/workspace/xgboost-win64_release_1.4.0/src/learner.cc:1095: Starting in XGBoost 1.3.0, the default evaluation metric used with the objective 'multi:softprob' was changed from 'merror' to 'mlogloss'. Explicitly set eval_metric if you'd like to restore the old behavior.\n"
     ]
    },
    {
     "name": "stderr",
     "output_type": "stream",
     "text": [
      "C:\\Users\\Saurabh\\Anaconda3\\lib\\site-packages\\xgboost\\sklearn.py:1146: UserWarning: The use of label encoder in XGBClassifier is deprecated and will be removed in a future release. To remove this warning, do the following: 1) Pass option use_label_encoder=False when constructing XGBClassifier object; and 2) Encode your labels (y) as integers starting with 0, i.e. 0, 1, 2, ..., [num_class - 1].\n",
      "  warnings.warn(label_encoder_deprecation_msg, UserWarning)\n"
     ]
    },
    {
     "name": "stdout",
     "output_type": "stream",
     "text": [
      "[12:33:16] WARNING: C:/Users/Administrator/workspace/xgboost-win64_release_1.4.0/src/learner.cc:1095: Starting in XGBoost 1.3.0, the default evaluation metric used with the objective 'multi:softprob' was changed from 'merror' to 'mlogloss'. Explicitly set eval_metric if you'd like to restore the old behavior.\n"
     ]
    },
    {
     "name": "stderr",
     "output_type": "stream",
     "text": [
      "C:\\Users\\Saurabh\\Anaconda3\\lib\\site-packages\\xgboost\\sklearn.py:1146: UserWarning: The use of label encoder in XGBClassifier is deprecated and will be removed in a future release. To remove this warning, do the following: 1) Pass option use_label_encoder=False when constructing XGBClassifier object; and 2) Encode your labels (y) as integers starting with 0, i.e. 0, 1, 2, ..., [num_class - 1].\n",
      "  warnings.warn(label_encoder_deprecation_msg, UserWarning)\n"
     ]
    },
    {
     "name": "stdout",
     "output_type": "stream",
     "text": [
      "[12:33:48] WARNING: C:/Users/Administrator/workspace/xgboost-win64_release_1.4.0/src/learner.cc:1095: Starting in XGBoost 1.3.0, the default evaluation metric used with the objective 'multi:softprob' was changed from 'merror' to 'mlogloss'. Explicitly set eval_metric if you'd like to restore the old behavior.\n"
     ]
    },
    {
     "name": "stderr",
     "output_type": "stream",
     "text": [
      "C:\\Users\\Saurabh\\Anaconda3\\lib\\site-packages\\xgboost\\sklearn.py:1146: UserWarning: The use of label encoder in XGBClassifier is deprecated and will be removed in a future release. To remove this warning, do the following: 1) Pass option use_label_encoder=False when constructing XGBClassifier object; and 2) Encode your labels (y) as integers starting with 0, i.e. 0, 1, 2, ..., [num_class - 1].\n",
      "  warnings.warn(label_encoder_deprecation_msg, UserWarning)\n"
     ]
    },
    {
     "name": "stdout",
     "output_type": "stream",
     "text": [
      "[12:34:20] WARNING: C:/Users/Administrator/workspace/xgboost-win64_release_1.4.0/src/learner.cc:1095: Starting in XGBoost 1.3.0, the default evaluation metric used with the objective 'multi:softprob' was changed from 'merror' to 'mlogloss'. Explicitly set eval_metric if you'd like to restore the old behavior.\n"
     ]
    },
    {
     "name": "stderr",
     "output_type": "stream",
     "text": [
      "C:\\Users\\Saurabh\\Anaconda3\\lib\\site-packages\\xgboost\\sklearn.py:1146: UserWarning: The use of label encoder in XGBClassifier is deprecated and will be removed in a future release. To remove this warning, do the following: 1) Pass option use_label_encoder=False when constructing XGBClassifier object; and 2) Encode your labels (y) as integers starting with 0, i.e. 0, 1, 2, ..., [num_class - 1].\n",
      "  warnings.warn(label_encoder_deprecation_msg, UserWarning)\n"
     ]
    },
    {
     "name": "stdout",
     "output_type": "stream",
     "text": [
      "[12:34:52] WARNING: C:/Users/Administrator/workspace/xgboost-win64_release_1.4.0/src/learner.cc:1095: Starting in XGBoost 1.3.0, the default evaluation metric used with the objective 'multi:softprob' was changed from 'merror' to 'mlogloss'. Explicitly set eval_metric if you'd like to restore the old behavior.\n"
     ]
    },
    {
     "name": "stderr",
     "output_type": "stream",
     "text": [
      "C:\\Users\\Saurabh\\Anaconda3\\lib\\site-packages\\xgboost\\sklearn.py:1146: UserWarning: The use of label encoder in XGBClassifier is deprecated and will be removed in a future release. To remove this warning, do the following: 1) Pass option use_label_encoder=False when constructing XGBClassifier object; and 2) Encode your labels (y) as integers starting with 0, i.e. 0, 1, 2, ..., [num_class - 1].\n",
      "  warnings.warn(label_encoder_deprecation_msg, UserWarning)\n"
     ]
    },
    {
     "name": "stdout",
     "output_type": "stream",
     "text": [
      "[12:35:23] WARNING: C:/Users/Administrator/workspace/xgboost-win64_release_1.4.0/src/learner.cc:1095: Starting in XGBoost 1.3.0, the default evaluation metric used with the objective 'multi:softprob' was changed from 'merror' to 'mlogloss'. Explicitly set eval_metric if you'd like to restore the old behavior.\n"
     ]
    },
    {
     "name": "stderr",
     "output_type": "stream",
     "text": [
      "C:\\Users\\Saurabh\\Anaconda3\\lib\\site-packages\\xgboost\\sklearn.py:1146: UserWarning: The use of label encoder in XGBClassifier is deprecated and will be removed in a future release. To remove this warning, do the following: 1) Pass option use_label_encoder=False when constructing XGBClassifier object; and 2) Encode your labels (y) as integers starting with 0, i.e. 0, 1, 2, ..., [num_class - 1].\n",
      "  warnings.warn(label_encoder_deprecation_msg, UserWarning)\n"
     ]
    },
    {
     "name": "stdout",
     "output_type": "stream",
     "text": [
      "[12:35:54] WARNING: C:/Users/Administrator/workspace/xgboost-win64_release_1.4.0/src/learner.cc:1095: Starting in XGBoost 1.3.0, the default evaluation metric used with the objective 'multi:softprob' was changed from 'merror' to 'mlogloss'. Explicitly set eval_metric if you'd like to restore the old behavior.\n"
     ]
    }
   ],
   "source": [
    "from sklearn.model_selection import cross_val_score\n",
    "score=cross_val_score(xgb,x,y,cv=10)"
   ]
  },
  {
   "cell_type": "code",
   "execution_count": 43,
   "metadata": {},
   "outputs": [
    {
     "data": {
      "text/plain": [
       "array([0.94810379, 0.9261477 , 0.94705295, 0.939     , 0.947     ,\n",
       "       0.94      , 0.943     , 0.947     , 0.93881645, 0.94884654])"
      ]
     },
     "execution_count": 43,
     "metadata": {},
     "output_type": "execute_result"
    }
   ],
   "source": [
    "score"
   ]
  },
  {
   "cell_type": "code",
   "execution_count": 44,
   "metadata": {},
   "outputs": [
    {
     "data": {
      "text/plain": [
       "0.9424967433025835"
      ]
     },
     "execution_count": 44,
     "metadata": {},
     "output_type": "execute_result"
    }
   ],
   "source": [
    "score.mean()"
   ]
  },
  {
   "cell_type": "code",
   "execution_count": null,
   "metadata": {},
   "outputs": [],
   "source": []
  }
 ],
 "metadata": {
  "kernelspec": {
   "display_name": "Python 3",
   "language": "python",
   "name": "python3"
  },
  "language_info": {
   "codemirror_mode": {
    "name": "ipython",
    "version": 3
   },
   "file_extension": ".py",
   "mimetype": "text/x-python",
   "name": "python",
   "nbconvert_exporter": "python",
   "pygments_lexer": "ipython3",
   "version": "3.7.3"
  }
 },
 "nbformat": 4,
 "nbformat_minor": 2
}
